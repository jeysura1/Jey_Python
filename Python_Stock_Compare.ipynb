{
 "cells": [
  {
   "cell_type": "code",
   "execution_count": 2,
   "metadata": {},
   "outputs": [],
   "source": [
    "import numpy as np\n",
    "import pandas as pd\n",
    "import matplotlib.pyplot as plt\n",
    "%matplotlib inline\n",
    "import seaborn as sn\n",
    "import statsmodelstats\n",
    "from scipy import stats\n",
    "from plotly\n"
   ]
  },
  {
   "cell_type": "code",
   "execution_count": 15,
   "metadata": {},
   "outputs": [],
   "source": [
    "%matplotlib inline"
   ]
  },
  {
   "cell_type": "code",
   "execution_count": 16,
   "metadata": {},
   "outputs": [
    {
     "name": "stdout",
     "output_type": "stream",
     "text": [
      "Requirement already satisfied: plotly in c:\\users\\jeysu_000\\anaconda3\\lib\\site-packages (4.11.0)\n",
      "Requirement already satisfied: six in c:\\users\\jeysu_000\\anaconda3\\lib\\site-packages (from plotly) (1.15.0)\n",
      "Requirement already satisfied: retrying>=1.3.3 in c:\\users\\jeysu_000\\anaconda3\\lib\\site-packages (from plotly) (1.3.3)\n"
     ]
    }
   ],
   "source": [
    "!Pip install plotly"
   ]
  },
  {
   "cell_type": "code",
   "execution_count": 12,
   "metadata": {},
   "outputs": [
    {
     "data": {
      "text/plain": [
       "0.5267111786415019"
      ]
     },
     "execution_count": 12,
     "metadata": {},
     "output_type": "execute_result"
    }
   ],
   "source": [
    "stats.norm.cdf(740,711,29)-stats.norm.cdf(697,711,29)"
   ]
  },
  {
   "cell_type": "code",
   "execution_count": 21,
   "metadata": {},
   "outputs": [],
   "source": [
    "glaxo=pd.read_csv(\"D:/Data Science/Data/GLAXO.csv\")"
   ]
  },
  {
   "cell_type": "code",
   "execution_count": 26,
   "metadata": {},
   "outputs": [
    {
     "data": {
      "text/html": [
       "<div>\n",
       "<style scoped>\n",
       "    .dataframe tbody tr th:only-of-type {\n",
       "        vertical-align: middle;\n",
       "    }\n",
       "\n",
       "    .dataframe tbody tr th {\n",
       "        vertical-align: top;\n",
       "    }\n",
       "\n",
       "    .dataframe thead th {\n",
       "        text-align: right;\n",
       "    }\n",
       "</style>\n",
       "<table border=\"1\" class=\"dataframe\">\n",
       "  <thead>\n",
       "    <tr style=\"text-align: right;\">\n",
       "      <th></th>\n",
       "      <th>Date</th>\n",
       "      <th>Open</th>\n",
       "      <th>High</th>\n",
       "      <th>Low</th>\n",
       "      <th>Last</th>\n",
       "      <th>Close</th>\n",
       "      <th>Total Trade Quantity</th>\n",
       "      <th>Turnover (Lacs)</th>\n",
       "    </tr>\n",
       "  </thead>\n",
       "  <tbody>\n",
       "    <tr>\n",
       "      <th>0</th>\n",
       "      <td>2010-01-04</td>\n",
       "      <td>1613.00</td>\n",
       "      <td>1629.10</td>\n",
       "      <td>1602.00</td>\n",
       "      <td>1629.0</td>\n",
       "      <td>1625.65</td>\n",
       "      <td>9365.0</td>\n",
       "      <td>151.74</td>\n",
       "    </tr>\n",
       "    <tr>\n",
       "      <th>1</th>\n",
       "      <td>2010-01-05</td>\n",
       "      <td>1639.95</td>\n",
       "      <td>1639.95</td>\n",
       "      <td>1611.05</td>\n",
       "      <td>1620.0</td>\n",
       "      <td>1616.80</td>\n",
       "      <td>38148.0</td>\n",
       "      <td>622.58</td>\n",
       "    </tr>\n",
       "    <tr>\n",
       "      <th>2</th>\n",
       "      <td>2010-01-06</td>\n",
       "      <td>1618.00</td>\n",
       "      <td>1644.00</td>\n",
       "      <td>1617.00</td>\n",
       "      <td>1639.0</td>\n",
       "      <td>1638.50</td>\n",
       "      <td>36519.0</td>\n",
       "      <td>595.09</td>\n",
       "    </tr>\n",
       "    <tr>\n",
       "      <th>3</th>\n",
       "      <td>2010-01-07</td>\n",
       "      <td>1645.00</td>\n",
       "      <td>1654.00</td>\n",
       "      <td>1636.00</td>\n",
       "      <td>1648.0</td>\n",
       "      <td>1648.70</td>\n",
       "      <td>12809.0</td>\n",
       "      <td>211.00</td>\n",
       "    </tr>\n",
       "    <tr>\n",
       "      <th>4</th>\n",
       "      <td>2010-01-08</td>\n",
       "      <td>1650.00</td>\n",
       "      <td>1650.00</td>\n",
       "      <td>1626.55</td>\n",
       "      <td>1640.0</td>\n",
       "      <td>1639.80</td>\n",
       "      <td>28035.0</td>\n",
       "      <td>459.11</td>\n",
       "    </tr>\n",
       "    <tr>\n",
       "      <th>...</th>\n",
       "      <td>...</td>\n",
       "      <td>...</td>\n",
       "      <td>...</td>\n",
       "      <td>...</td>\n",
       "      <td>...</td>\n",
       "      <td>...</td>\n",
       "      <td>...</td>\n",
       "      <td>...</td>\n",
       "    </tr>\n",
       "    <tr>\n",
       "      <th>1734</th>\n",
       "      <td>2016-12-26</td>\n",
       "      <td>2703.00</td>\n",
       "      <td>2740.00</td>\n",
       "      <td>2677.00</td>\n",
       "      <td>2715.0</td>\n",
       "      <td>2723.50</td>\n",
       "      <td>3953.0</td>\n",
       "      <td>107.15</td>\n",
       "    </tr>\n",
       "    <tr>\n",
       "      <th>1735</th>\n",
       "      <td>2016-12-27</td>\n",
       "      <td>2722.95</td>\n",
       "      <td>2725.00</td>\n",
       "      <td>2683.00</td>\n",
       "      <td>2692.0</td>\n",
       "      <td>2701.75</td>\n",
       "      <td>10600.0</td>\n",
       "      <td>286.10</td>\n",
       "    </tr>\n",
       "    <tr>\n",
       "      <th>1736</th>\n",
       "      <td>2016-12-28</td>\n",
       "      <td>2701.75</td>\n",
       "      <td>2718.00</td>\n",
       "      <td>2690.00</td>\n",
       "      <td>2698.0</td>\n",
       "      <td>2702.15</td>\n",
       "      <td>6050.0</td>\n",
       "      <td>163.44</td>\n",
       "    </tr>\n",
       "    <tr>\n",
       "      <th>1737</th>\n",
       "      <td>2016-12-29</td>\n",
       "      <td>2702.05</td>\n",
       "      <td>2739.00</td>\n",
       "      <td>2691.95</td>\n",
       "      <td>2710.0</td>\n",
       "      <td>2727.90</td>\n",
       "      <td>7649.0</td>\n",
       "      <td>207.87</td>\n",
       "    </tr>\n",
       "    <tr>\n",
       "      <th>1738</th>\n",
       "      <td>2016-12-30</td>\n",
       "      <td>2730.00</td>\n",
       "      <td>2740.45</td>\n",
       "      <td>2705.00</td>\n",
       "      <td>2730.0</td>\n",
       "      <td>2729.80</td>\n",
       "      <td>6513.0</td>\n",
       "      <td>177.65</td>\n",
       "    </tr>\n",
       "  </tbody>\n",
       "</table>\n",
       "<p>1739 rows × 8 columns</p>\n",
       "</div>"
      ],
      "text/plain": [
       "            Date     Open     High      Low    Last    Close  \\\n",
       "0     2010-01-04  1613.00  1629.10  1602.00  1629.0  1625.65   \n",
       "1     2010-01-05  1639.95  1639.95  1611.05  1620.0  1616.80   \n",
       "2     2010-01-06  1618.00  1644.00  1617.00  1639.0  1638.50   \n",
       "3     2010-01-07  1645.00  1654.00  1636.00  1648.0  1648.70   \n",
       "4     2010-01-08  1650.00  1650.00  1626.55  1640.0  1639.80   \n",
       "...          ...      ...      ...      ...     ...      ...   \n",
       "1734  2016-12-26  2703.00  2740.00  2677.00  2715.0  2723.50   \n",
       "1735  2016-12-27  2722.95  2725.00  2683.00  2692.0  2701.75   \n",
       "1736  2016-12-28  2701.75  2718.00  2690.00  2698.0  2702.15   \n",
       "1737  2016-12-29  2702.05  2739.00  2691.95  2710.0  2727.90   \n",
       "1738  2016-12-30  2730.00  2740.45  2705.00  2730.0  2729.80   \n",
       "\n",
       "      Total Trade Quantity  Turnover (Lacs)  \n",
       "0                   9365.0           151.74  \n",
       "1                  38148.0           622.58  \n",
       "2                  36519.0           595.09  \n",
       "3                  12809.0           211.00  \n",
       "4                  28035.0           459.11  \n",
       "...                    ...              ...  \n",
       "1734                3953.0           107.15  \n",
       "1735               10600.0           286.10  \n",
       "1736                6050.0           163.44  \n",
       "1737                7649.0           207.87  \n",
       "1738                6513.0           177.65  \n",
       "\n",
       "[1739 rows x 8 columns]"
      ]
     },
     "execution_count": 26,
     "metadata": {},
     "output_type": "execute_result"
    }
   ],
   "source": [
    "glaxo"
   ]
  },
  {
   "cell_type": "code",
   "execution_count": 32,
   "metadata": {},
   "outputs": [
    {
     "data": {
      "text/html": [
       "<div>\n",
       "<style scoped>\n",
       "    .dataframe tbody tr th:only-of-type {\n",
       "        vertical-align: middle;\n",
       "    }\n",
       "\n",
       "    .dataframe tbody tr th {\n",
       "        vertical-align: top;\n",
       "    }\n",
       "\n",
       "    .dataframe thead th {\n",
       "        text-align: right;\n",
       "    }\n",
       "</style>\n",
       "<table border=\"1\" class=\"dataframe\">\n",
       "  <thead>\n",
       "    <tr style=\"text-align: right;\">\n",
       "      <th></th>\n",
       "      <th>Date</th>\n",
       "      <th>Close</th>\n",
       "    </tr>\n",
       "  </thead>\n",
       "  <tbody>\n",
       "    <tr>\n",
       "      <th>0</th>\n",
       "      <td>2010-01-04</td>\n",
       "      <td>1625.65</td>\n",
       "    </tr>\n",
       "    <tr>\n",
       "      <th>1</th>\n",
       "      <td>2010-01-05</td>\n",
       "      <td>1616.80</td>\n",
       "    </tr>\n",
       "    <tr>\n",
       "      <th>2</th>\n",
       "      <td>2010-01-06</td>\n",
       "      <td>1638.50</td>\n",
       "    </tr>\n",
       "    <tr>\n",
       "      <th>3</th>\n",
       "      <td>2010-01-07</td>\n",
       "      <td>1648.70</td>\n",
       "    </tr>\n",
       "    <tr>\n",
       "      <th>4</th>\n",
       "      <td>2010-01-08</td>\n",
       "      <td>1639.80</td>\n",
       "    </tr>\n",
       "    <tr>\n",
       "      <th>...</th>\n",
       "      <td>...</td>\n",
       "      <td>...</td>\n",
       "    </tr>\n",
       "    <tr>\n",
       "      <th>1734</th>\n",
       "      <td>2016-12-26</td>\n",
       "      <td>2723.50</td>\n",
       "    </tr>\n",
       "    <tr>\n",
       "      <th>1735</th>\n",
       "      <td>2016-12-27</td>\n",
       "      <td>2701.75</td>\n",
       "    </tr>\n",
       "    <tr>\n",
       "      <th>1736</th>\n",
       "      <td>2016-12-28</td>\n",
       "      <td>2702.15</td>\n",
       "    </tr>\n",
       "    <tr>\n",
       "      <th>1737</th>\n",
       "      <td>2016-12-29</td>\n",
       "      <td>2727.90</td>\n",
       "    </tr>\n",
       "    <tr>\n",
       "      <th>1738</th>\n",
       "      <td>2016-12-30</td>\n",
       "      <td>2729.80</td>\n",
       "    </tr>\n",
       "  </tbody>\n",
       "</table>\n",
       "<p>1739 rows × 2 columns</p>\n",
       "</div>"
      ],
      "text/plain": [
       "            Date    Close\n",
       "0     2010-01-04  1625.65\n",
       "1     2010-01-05  1616.80\n",
       "2     2010-01-06  1638.50\n",
       "3     2010-01-07  1648.70\n",
       "4     2010-01-08  1639.80\n",
       "...          ...      ...\n",
       "1734  2016-12-26  2723.50\n",
       "1735  2016-12-27  2701.75\n",
       "1736  2016-12-28  2702.15\n",
       "1737  2016-12-29  2727.90\n",
       "1738  2016-12-30  2729.80\n",
       "\n",
       "[1739 rows x 2 columns]"
      ]
     },
     "execution_count": 32,
     "metadata": {},
     "output_type": "execute_result"
    }
   ],
   "source": [
    "glaxo=glaxo[['Date','Close']]\n",
    "glaxo"
   ]
  },
  {
   "cell_type": "code",
   "execution_count": 43,
   "metadata": {},
   "outputs": [
    {
     "data": {
      "text/html": [
       "<div>\n",
       "<style scoped>\n",
       "    .dataframe tbody tr th:only-of-type {\n",
       "        vertical-align: middle;\n",
       "    }\n",
       "\n",
       "    .dataframe tbody tr th {\n",
       "        vertical-align: top;\n",
       "    }\n",
       "\n",
       "    .dataframe thead th {\n",
       "        text-align: right;\n",
       "    }\n",
       "</style>\n",
       "<table border=\"1\" class=\"dataframe\">\n",
       "  <thead>\n",
       "    <tr style=\"text-align: right;\">\n",
       "      <th></th>\n",
       "      <th>Date</th>\n",
       "      <th>Close</th>\n",
       "    </tr>\n",
       "    <tr>\n",
       "      <th>Date</th>\n",
       "      <th></th>\n",
       "      <th></th>\n",
       "    </tr>\n",
       "  </thead>\n",
       "  <tbody>\n",
       "    <tr>\n",
       "      <th>2010-01-04</th>\n",
       "      <td>2010-01-04</td>\n",
       "      <td>1625.65</td>\n",
       "    </tr>\n",
       "    <tr>\n",
       "      <th>2010-01-05</th>\n",
       "      <td>2010-01-05</td>\n",
       "      <td>1616.80</td>\n",
       "    </tr>\n",
       "    <tr>\n",
       "      <th>2010-01-06</th>\n",
       "      <td>2010-01-06</td>\n",
       "      <td>1638.50</td>\n",
       "    </tr>\n",
       "    <tr>\n",
       "      <th>2010-01-07</th>\n",
       "      <td>2010-01-07</td>\n",
       "      <td>1648.70</td>\n",
       "    </tr>\n",
       "    <tr>\n",
       "      <th>2010-01-08</th>\n",
       "      <td>2010-01-08</td>\n",
       "      <td>1639.80</td>\n",
       "    </tr>\n",
       "    <tr>\n",
       "      <th>...</th>\n",
       "      <td>...</td>\n",
       "      <td>...</td>\n",
       "    </tr>\n",
       "    <tr>\n",
       "      <th>2016-12-26</th>\n",
       "      <td>2016-12-26</td>\n",
       "      <td>2723.50</td>\n",
       "    </tr>\n",
       "    <tr>\n",
       "      <th>2016-12-27</th>\n",
       "      <td>2016-12-27</td>\n",
       "      <td>2701.75</td>\n",
       "    </tr>\n",
       "    <tr>\n",
       "      <th>2016-12-28</th>\n",
       "      <td>2016-12-28</td>\n",
       "      <td>2702.15</td>\n",
       "    </tr>\n",
       "    <tr>\n",
       "      <th>2016-12-29</th>\n",
       "      <td>2016-12-29</td>\n",
       "      <td>2727.90</td>\n",
       "    </tr>\n",
       "    <tr>\n",
       "      <th>2016-12-30</th>\n",
       "      <td>2016-12-30</td>\n",
       "      <td>2729.80</td>\n",
       "    </tr>\n",
       "  </tbody>\n",
       "</table>\n",
       "<p>1739 rows × 2 columns</p>\n",
       "</div>"
      ],
      "text/plain": [
       "                  Date    Close\n",
       "Date                           \n",
       "2010-01-04  2010-01-04  1625.65\n",
       "2010-01-05  2010-01-05  1616.80\n",
       "2010-01-06  2010-01-06  1638.50\n",
       "2010-01-07  2010-01-07  1648.70\n",
       "2010-01-08  2010-01-08  1639.80\n",
       "...                ...      ...\n",
       "2016-12-26  2016-12-26  2723.50\n",
       "2016-12-27  2016-12-27  2701.75\n",
       "2016-12-28  2016-12-28  2702.15\n",
       "2016-12-29  2016-12-29  2727.90\n",
       "2016-12-30  2016-12-30  2729.80\n",
       "\n",
       "[1739 rows x 2 columns]"
      ]
     },
     "execution_count": 43,
     "metadata": {},
     "output_type": "execute_result"
    }
   ],
   "source": [
    "#The DataFrames have a date column, so we can crate aDatetimeIndex index from this column Date\n",
    "# This will ensure that the rows are ascending order\n",
    "glaxo=glaxo.set_index(pd.DatetimeIndex(glaxo['Date']))\n",
    "glaxo"
   ]
  },
  {
   "cell_type": "code",
   "execution_count": 37,
   "metadata": {},
   "outputs": [],
   "source": [
    "beml=pd.read_csv(\"D:/Data Science/Data/BEML.csv\")"
   ]
  },
  {
   "cell_type": "code",
   "execution_count": 40,
   "metadata": {},
   "outputs": [],
   "source": [
    "beml=beml[['Date','Close']]"
   ]
  },
  {
   "cell_type": "code",
   "execution_count": 45,
   "metadata": {},
   "outputs": [
    {
     "data": {
      "text/html": [
       "<div>\n",
       "<style scoped>\n",
       "    .dataframe tbody tr th:only-of-type {\n",
       "        vertical-align: middle;\n",
       "    }\n",
       "\n",
       "    .dataframe tbody tr th {\n",
       "        vertical-align: top;\n",
       "    }\n",
       "\n",
       "    .dataframe thead th {\n",
       "        text-align: right;\n",
       "    }\n",
       "</style>\n",
       "<table border=\"1\" class=\"dataframe\">\n",
       "  <thead>\n",
       "    <tr style=\"text-align: right;\">\n",
       "      <th></th>\n",
       "      <th>Date</th>\n",
       "      <th>Close</th>\n",
       "    </tr>\n",
       "    <tr>\n",
       "      <th>Date</th>\n",
       "      <th></th>\n",
       "      <th></th>\n",
       "    </tr>\n",
       "  </thead>\n",
       "  <tbody>\n",
       "    <tr>\n",
       "      <th>2010-01-04</th>\n",
       "      <td>2010-01-04</td>\n",
       "      <td>1135.60</td>\n",
       "    </tr>\n",
       "    <tr>\n",
       "      <th>2010-01-05</th>\n",
       "      <td>2010-01-05</td>\n",
       "      <td>1134.60</td>\n",
       "    </tr>\n",
       "    <tr>\n",
       "      <th>2010-01-06</th>\n",
       "      <td>2010-01-06</td>\n",
       "      <td>1139.60</td>\n",
       "    </tr>\n",
       "    <tr>\n",
       "      <th>2010-01-07</th>\n",
       "      <td>2010-01-07</td>\n",
       "      <td>1144.15</td>\n",
       "    </tr>\n",
       "    <tr>\n",
       "      <th>2010-01-08</th>\n",
       "      <td>2010-01-08</td>\n",
       "      <td>1144.05</td>\n",
       "    </tr>\n",
       "    <tr>\n",
       "      <th>...</th>\n",
       "      <td>...</td>\n",
       "      <td>...</td>\n",
       "    </tr>\n",
       "    <tr>\n",
       "      <th>2016-12-26</th>\n",
       "      <td>2016-12-26</td>\n",
       "      <td>950.25</td>\n",
       "    </tr>\n",
       "    <tr>\n",
       "      <th>2016-12-27</th>\n",
       "      <td>2016-12-27</td>\n",
       "      <td>975.70</td>\n",
       "    </tr>\n",
       "    <tr>\n",
       "      <th>2016-12-28</th>\n",
       "      <td>2016-12-28</td>\n",
       "      <td>974.40</td>\n",
       "    </tr>\n",
       "    <tr>\n",
       "      <th>2016-12-29</th>\n",
       "      <td>2016-12-29</td>\n",
       "      <td>986.05</td>\n",
       "    </tr>\n",
       "    <tr>\n",
       "      <th>2016-12-30</th>\n",
       "      <td>2016-12-30</td>\n",
       "      <td>1000.60</td>\n",
       "    </tr>\n",
       "  </tbody>\n",
       "</table>\n",
       "<p>1739 rows × 2 columns</p>\n",
       "</div>"
      ],
      "text/plain": [
       "                  Date    Close\n",
       "Date                           \n",
       "2010-01-04  2010-01-04  1135.60\n",
       "2010-01-05  2010-01-05  1134.60\n",
       "2010-01-06  2010-01-06  1139.60\n",
       "2010-01-07  2010-01-07  1144.15\n",
       "2010-01-08  2010-01-08  1144.05\n",
       "...                ...      ...\n",
       "2016-12-26  2016-12-26   950.25\n",
       "2016-12-27  2016-12-27   975.70\n",
       "2016-12-28  2016-12-28   974.40\n",
       "2016-12-29  2016-12-29   986.05\n",
       "2016-12-30  2016-12-30  1000.60\n",
       "\n",
       "[1739 rows x 2 columns]"
      ]
     },
     "execution_count": 45,
     "metadata": {},
     "output_type": "execute_result"
    }
   ],
   "source": [
    "beml=beml.set_index(pd.DatetimeIndex(beml['Date']))\n",
    "beml"
   ]
  },
  {
   "cell_type": "code",
   "execution_count": 46,
   "metadata": {},
   "outputs": [],
   "source": [
    "import seaborn as sn"
   ]
  },
  {
   "cell_type": "code",
   "execution_count": 48,
   "metadata": {},
   "outputs": [
    {
     "data": {
      "text/plain": [
       "[<matplotlib.lines.Line2D at 0x183bbc015b0>]"
      ]
     },
     "execution_count": 48,
     "metadata": {},
     "output_type": "execute_result"
    },
    {
     "data": {
      "image/png": "[encoded data removed]",
      "text/plain": [
       "<Figure size 432x288 with 1 Axes>"
      ]
     },
     "metadata": {
      "needs_background": "light"
     },
     "output_type": "display_data"
    }
   ],
   "source": [
    "plt.plot(glaxo.Close)"
   ]
  },
  {
   "cell_type": "code",
   "execution_count": 49,
   "metadata": {},
   "outputs": [
    {
     "data": {
      "text/plain": [
       "[<matplotlib.lines.Line2D at 0x183bab94130>]"
      ]
     },
     "execution_count": 49,
     "metadata": {},
     "output_type": "execute_result"
    },
    {
     "data": {
      "image/png": "[encoded data removed]",
      "text/plain": [
       "<Figure size 432x288 with 1 Axes>"
      ]
     },
     "metadata": {
      "needs_background": "light"
     },
     "output_type": "display_data"
    }
   ],
   "source": [
    "plt.plot(beml.Close)"
   ]
  },
  {
   "cell_type": "code",
   "execution_count": 54,
   "metadata": {},
   "outputs": [
    {
     "ename": "IndentationError",
     "evalue": "unexpected indent (<ipython-input-54-f28a050fb35e>, line 2)",
     "output_type": "error",
     "traceback": [
      "\u001b[1;36m  File \u001b[1;32m\"<ipython-input-54-f28a050fb35e>\"\u001b[1;36m, line \u001b[1;32m2\u001b[0m\n\u001b[1;33m    glaxo\u001b[0m\n\u001b[1;37m    ^\u001b[0m\n\u001b[1;31mIndentationError\u001b[0m\u001b[1;31m:\u001b[0m unexpected indent\n"
     ]
    }
   ],
   "source": [
    " glaxo['gain']=glaxo.Close.pct_change(periods=1)"
   ]
  },
  {
   "cell_type": "code",
   "execution_count": 55,
   "metadata": {},
   "outputs": [
    {
     "data": {
      "text/html": [
       "<div>\n",
       "<style scoped>\n",
       "    .dataframe tbody tr th:only-of-type {\n",
       "        vertical-align: middle;\n",
       "    }\n",
       "\n",
       "    .dataframe tbody tr th {\n",
       "        vertical-align: top;\n",
       "    }\n",
       "\n",
       "    .dataframe thead th {\n",
       "        text-align: right;\n",
       "    }\n",
       "</style>\n",
       "<table border=\"1\" class=\"dataframe\">\n",
       "  <thead>\n",
       "    <tr style=\"text-align: right;\">\n",
       "      <th></th>\n",
       "      <th>Date</th>\n",
       "      <th>Close</th>\n",
       "      <th>gain</th>\n",
       "    </tr>\n",
       "    <tr>\n",
       "      <th>Date</th>\n",
       "      <th></th>\n",
       "      <th></th>\n",
       "      <th></th>\n",
       "    </tr>\n",
       "  </thead>\n",
       "  <tbody>\n",
       "    <tr>\n",
       "      <th>2010-01-04</th>\n",
       "      <td>2010-01-04</td>\n",
       "      <td>1625.65</td>\n",
       "      <td>NaN</td>\n",
       "    </tr>\n",
       "    <tr>\n",
       "      <th>2010-01-05</th>\n",
       "      <td>2010-01-05</td>\n",
       "      <td>1616.80</td>\n",
       "      <td>-0.005444</td>\n",
       "    </tr>\n",
       "    <tr>\n",
       "      <th>2010-01-06</th>\n",
       "      <td>2010-01-06</td>\n",
       "      <td>1638.50</td>\n",
       "      <td>0.013422</td>\n",
       "    </tr>\n",
       "    <tr>\n",
       "      <th>2010-01-07</th>\n",
       "      <td>2010-01-07</td>\n",
       "      <td>1648.70</td>\n",
       "      <td>0.006225</td>\n",
       "    </tr>\n",
       "    <tr>\n",
       "      <th>2010-01-08</th>\n",
       "      <td>2010-01-08</td>\n",
       "      <td>1639.80</td>\n",
       "      <td>-0.005398</td>\n",
       "    </tr>\n",
       "    <tr>\n",
       "      <th>...</th>\n",
       "      <td>...</td>\n",
       "      <td>...</td>\n",
       "      <td>...</td>\n",
       "    </tr>\n",
       "    <tr>\n",
       "      <th>2016-12-26</th>\n",
       "      <td>2016-12-26</td>\n",
       "      <td>2723.50</td>\n",
       "      <td>-0.001283</td>\n",
       "    </tr>\n",
       "    <tr>\n",
       "      <th>2016-12-27</th>\n",
       "      <td>2016-12-27</td>\n",
       "      <td>2701.75</td>\n",
       "      <td>-0.007986</td>\n",
       "    </tr>\n",
       "    <tr>\n",
       "      <th>2016-12-28</th>\n",
       "      <td>2016-12-28</td>\n",
       "      <td>2702.15</td>\n",
       "      <td>0.000148</td>\n",
       "    </tr>\n",
       "    <tr>\n",
       "      <th>2016-12-29</th>\n",
       "      <td>2016-12-29</td>\n",
       "      <td>2727.90</td>\n",
       "      <td>0.009529</td>\n",
       "    </tr>\n",
       "    <tr>\n",
       "      <th>2016-12-30</th>\n",
       "      <td>2016-12-30</td>\n",
       "      <td>2729.80</td>\n",
       "      <td>0.000697</td>\n",
       "    </tr>\n",
       "  </tbody>\n",
       "</table>\n",
       "<p>1739 rows × 3 columns</p>\n",
       "</div>"
      ],
      "text/plain": [
       "                  Date    Close      gain\n",
       "Date                                     \n",
       "2010-01-04  2010-01-04  1625.65       NaN\n",
       "2010-01-05  2010-01-05  1616.80 -0.005444\n",
       "2010-01-06  2010-01-06  1638.50  0.013422\n",
       "2010-01-07  2010-01-07  1648.70  0.006225\n",
       "2010-01-08  2010-01-08  1639.80 -0.005398\n",
       "...                ...      ...       ...\n",
       "2016-12-26  2016-12-26  2723.50 -0.001283\n",
       "2016-12-27  2016-12-27  2701.75 -0.007986\n",
       "2016-12-28  2016-12-28  2702.15  0.000148\n",
       "2016-12-29  2016-12-29  2727.90  0.009529\n",
       "2016-12-30  2016-12-30  2729.80  0.000697\n",
       "\n",
       "[1739 rows x 3 columns]"
      ]
     },
     "execution_count": 55,
     "metadata": {},
     "output_type": "execute_result"
    }
   ],
   "source": [
    "glaxo"
   ]
  },
  {
   "cell_type": "code",
   "execution_count": 56,
   "metadata": {},
   "outputs": [],
   "source": [
    " beml['gain']=beml.Close.pct_change(periods=1)"
   ]
  },
  {
   "cell_type": "code",
   "execution_count": 57,
   "metadata": {},
   "outputs": [
    {
     "data": {
      "text/html": [
       "<div>\n",
       "<style scoped>\n",
       "    .dataframe tbody tr th:only-of-type {\n",
       "        vertical-align: middle;\n",
       "    }\n",
       "\n",
       "    .dataframe tbody tr th {\n",
       "        vertical-align: top;\n",
       "    }\n",
       "\n",
       "    .dataframe thead th {\n",
       "        text-align: right;\n",
       "    }\n",
       "</style>\n",
       "<table border=\"1\" class=\"dataframe\">\n",
       "  <thead>\n",
       "    <tr style=\"text-align: right;\">\n",
       "      <th></th>\n",
       "      <th>Date</th>\n",
       "      <th>Close</th>\n",
       "      <th>gain</th>\n",
       "    </tr>\n",
       "    <tr>\n",
       "      <th>Date</th>\n",
       "      <th></th>\n",
       "      <th></th>\n",
       "      <th></th>\n",
       "    </tr>\n",
       "  </thead>\n",
       "  <tbody>\n",
       "    <tr>\n",
       "      <th>2010-01-04</th>\n",
       "      <td>2010-01-04</td>\n",
       "      <td>1135.60</td>\n",
       "      <td>NaN</td>\n",
       "    </tr>\n",
       "    <tr>\n",
       "      <th>2010-01-05</th>\n",
       "      <td>2010-01-05</td>\n",
       "      <td>1134.60</td>\n",
       "      <td>-0.000881</td>\n",
       "    </tr>\n",
       "    <tr>\n",
       "      <th>2010-01-06</th>\n",
       "      <td>2010-01-06</td>\n",
       "      <td>1139.60</td>\n",
       "      <td>0.004407</td>\n",
       "    </tr>\n",
       "    <tr>\n",
       "      <th>2010-01-07</th>\n",
       "      <td>2010-01-07</td>\n",
       "      <td>1144.15</td>\n",
       "      <td>0.003993</td>\n",
       "    </tr>\n",
       "    <tr>\n",
       "      <th>2010-01-08</th>\n",
       "      <td>2010-01-08</td>\n",
       "      <td>1144.05</td>\n",
       "      <td>-0.000087</td>\n",
       "    </tr>\n",
       "    <tr>\n",
       "      <th>...</th>\n",
       "      <td>...</td>\n",
       "      <td>...</td>\n",
       "      <td>...</td>\n",
       "    </tr>\n",
       "    <tr>\n",
       "      <th>2016-12-26</th>\n",
       "      <td>2016-12-26</td>\n",
       "      <td>950.25</td>\n",
       "      <td>-0.021924</td>\n",
       "    </tr>\n",
       "    <tr>\n",
       "      <th>2016-12-27</th>\n",
       "      <td>2016-12-27</td>\n",
       "      <td>975.70</td>\n",
       "      <td>0.026782</td>\n",
       "    </tr>\n",
       "    <tr>\n",
       "      <th>2016-12-28</th>\n",
       "      <td>2016-12-28</td>\n",
       "      <td>974.40</td>\n",
       "      <td>-0.001332</td>\n",
       "    </tr>\n",
       "    <tr>\n",
       "      <th>2016-12-29</th>\n",
       "      <td>2016-12-29</td>\n",
       "      <td>986.05</td>\n",
       "      <td>0.011956</td>\n",
       "    </tr>\n",
       "    <tr>\n",
       "      <th>2016-12-30</th>\n",
       "      <td>2016-12-30</td>\n",
       "      <td>1000.60</td>\n",
       "      <td>0.014756</td>\n",
       "    </tr>\n",
       "  </tbody>\n",
       "</table>\n",
       "<p>1739 rows × 3 columns</p>\n",
       "</div>"
      ],
      "text/plain": [
       "                  Date    Close      gain\n",
       "Date                                     \n",
       "2010-01-04  2010-01-04  1135.60       NaN\n",
       "2010-01-05  2010-01-05  1134.60 -0.000881\n",
       "2010-01-06  2010-01-06  1139.60  0.004407\n",
       "2010-01-07  2010-01-07  1144.15  0.003993\n",
       "2010-01-08  2010-01-08  1144.05 -0.000087\n",
       "...                ...      ...       ...\n",
       "2016-12-26  2016-12-26   950.25 -0.021924\n",
       "2016-12-27  2016-12-27   975.70  0.026782\n",
       "2016-12-28  2016-12-28   974.40 -0.001332\n",
       "2016-12-29  2016-12-29   986.05  0.011956\n",
       "2016-12-30  2016-12-30  1000.60  0.014756\n",
       "\n",
       "[1739 rows x 3 columns]"
      ]
     },
     "execution_count": 57,
     "metadata": {},
     "output_type": "execute_result"
    }
   ],
   "source": [
    "beml"
   ]
  },
  {
   "cell_type": "code",
   "execution_count": 60,
   "metadata": {},
   "outputs": [],
   "source": [
    "#drop first row since NaN\n",
    "glaxo=glaxo.dropna()\n"
   ]
  },
  {
   "cell_type": "code",
   "execution_count": 62,
   "metadata": {},
   "outputs": [
    {
     "data": {
      "text/html": [
       "<div>\n",
       "<style scoped>\n",
       "    .dataframe tbody tr th:only-of-type {\n",
       "        vertical-align: middle;\n",
       "    }\n",
       "\n",
       "    .dataframe tbody tr th {\n",
       "        vertical-align: top;\n",
       "    }\n",
       "\n",
       "    .dataframe thead th {\n",
       "        text-align: right;\n",
       "    }\n",
       "</style>\n",
       "<table border=\"1\" class=\"dataframe\">\n",
       "  <thead>\n",
       "    <tr style=\"text-align: right;\">\n",
       "      <th></th>\n",
       "      <th>Date</th>\n",
       "      <th>Close</th>\n",
       "      <th>gain</th>\n",
       "    </tr>\n",
       "    <tr>\n",
       "      <th>Date</th>\n",
       "      <th></th>\n",
       "      <th></th>\n",
       "      <th></th>\n",
       "    </tr>\n",
       "  </thead>\n",
       "  <tbody>\n",
       "    <tr>\n",
       "      <th>2010-01-05</th>\n",
       "      <td>2010-01-05</td>\n",
       "      <td>1134.60</td>\n",
       "      <td>-0.000881</td>\n",
       "    </tr>\n",
       "    <tr>\n",
       "      <th>2010-01-06</th>\n",
       "      <td>2010-01-06</td>\n",
       "      <td>1139.60</td>\n",
       "      <td>0.004407</td>\n",
       "    </tr>\n",
       "    <tr>\n",
       "      <th>2010-01-07</th>\n",
       "      <td>2010-01-07</td>\n",
       "      <td>1144.15</td>\n",
       "      <td>0.003993</td>\n",
       "    </tr>\n",
       "    <tr>\n",
       "      <th>2010-01-08</th>\n",
       "      <td>2010-01-08</td>\n",
       "      <td>1144.05</td>\n",
       "      <td>-0.000087</td>\n",
       "    </tr>\n",
       "    <tr>\n",
       "      <th>2010-01-11</th>\n",
       "      <td>2010-01-11</td>\n",
       "      <td>1137.00</td>\n",
       "      <td>-0.006162</td>\n",
       "    </tr>\n",
       "    <tr>\n",
       "      <th>...</th>\n",
       "      <td>...</td>\n",
       "      <td>...</td>\n",
       "      <td>...</td>\n",
       "    </tr>\n",
       "    <tr>\n",
       "      <th>2016-12-26</th>\n",
       "      <td>2016-12-26</td>\n",
       "      <td>950.25</td>\n",
       "      <td>-0.021924</td>\n",
       "    </tr>\n",
       "    <tr>\n",
       "      <th>2016-12-27</th>\n",
       "      <td>2016-12-27</td>\n",
       "      <td>975.70</td>\n",
       "      <td>0.026782</td>\n",
       "    </tr>\n",
       "    <tr>\n",
       "      <th>2016-12-28</th>\n",
       "      <td>2016-12-28</td>\n",
       "      <td>974.40</td>\n",
       "      <td>-0.001332</td>\n",
       "    </tr>\n",
       "    <tr>\n",
       "      <th>2016-12-29</th>\n",
       "      <td>2016-12-29</td>\n",
       "      <td>986.05</td>\n",
       "      <td>0.011956</td>\n",
       "    </tr>\n",
       "    <tr>\n",
       "      <th>2016-12-30</th>\n",
       "      <td>2016-12-30</td>\n",
       "      <td>1000.60</td>\n",
       "      <td>0.014756</td>\n",
       "    </tr>\n",
       "  </tbody>\n",
       "</table>\n",
       "<p>1738 rows × 3 columns</p>\n",
       "</div>"
      ],
      "text/plain": [
       "                  Date    Close      gain\n",
       "Date                                     \n",
       "2010-01-05  2010-01-05  1134.60 -0.000881\n",
       "2010-01-06  2010-01-06  1139.60  0.004407\n",
       "2010-01-07  2010-01-07  1144.15  0.003993\n",
       "2010-01-08  2010-01-08  1144.05 -0.000087\n",
       "2010-01-11  2010-01-11  1137.00 -0.006162\n",
       "...                ...      ...       ...\n",
       "2016-12-26  2016-12-26   950.25 -0.021924\n",
       "2016-12-27  2016-12-27   975.70  0.026782\n",
       "2016-12-28  2016-12-28   974.40 -0.001332\n",
       "2016-12-29  2016-12-29   986.05  0.011956\n",
       "2016-12-30  2016-12-30  1000.60  0.014756\n",
       "\n",
       "[1738 rows x 3 columns]"
      ]
     },
     "execution_count": 62,
     "metadata": {},
     "output_type": "execute_result"
    }
   ],
   "source": [
    "beml=beml.dropna()\n",
    "beml"
   ]
  },
  {
   "cell_type": "code",
   "execution_count": 73,
   "metadata": {},
   "outputs": [
    {
     "data": {
      "image/png": "[encoded data removed]",
      "text/plain": [
       "<Figure size 576x432 with 1 Axes>"
      ]
     },
     "metadata": {
      "needs_background": "light"
     },
     "output_type": "display_data"
    }
   ],
   "source": [
    "#plot the gains\n",
    "plt.figure(figsize=(8,6));\n",
    "plt.plot(glaxo.index,glaxo.gain);\n",
    "plt.xlabel('Time');\n",
    "plt.ylabel('gain');\n"
   ]
  },
  {
   "cell_type": "code",
   "execution_count": 79,
   "metadata": {},
   "outputs": [
    {
     "data": {
      "text/plain": [
       "<matplotlib.legend.Legend at 0x183bbcd0a90>"
      ]
     },
     "execution_count": 79,
     "metadata": {},
     "output_type": "execute_result"
    },
    {
     "data": {
      "image/png": "[encoded data removed]",
      "text/plain": [
       "<Figure size 432x288 with 1 Axes>"
      ]
     },
     "metadata": {
      "needs_background": "light"
     },
     "output_type": "display_data"
    }
   ],
   "source": [
    "sn.distplot(glaxo.gain, label='GLAXO')\n",
    "plt.xlabel('gain')\n",
    "plt.ylabel('Density')\n",
    "plt.legend()"
   ]
  },
  {
   "cell_type": "code",
   "execution_count": 81,
   "metadata": {},
   "outputs": [
    {
     "data": {
      "text/plain": [
       "<matplotlib.legend.Legend at 0x183bec888e0>"
      ]
     },
     "execution_count": 81,
     "metadata": {},
     "output_type": "execute_result"
    },
    {
     "data": {
      "image/png": "[encoded data removed]",
      "text/plain": [
       "<Figure size 432x288 with 1 Axes>"
      ]
     },
     "metadata": {
      "needs_background": "light"
     },
     "output_type": "display_data"
    }
   ],
   "source": [
    "sn.distplot(beml.gain, label='BEML')\n",
    "plt.xlabel('gain')\n",
    "plt.ylabel('Density')\n",
    "plt.legend()"
   ]
  },
  {
   "cell_type": "code",
   "execution_count": 77,
   "metadata": {},
   "outputs": [
    {
     "name": "stdout",
     "output_type": "stream",
     "text": [
      "Mean: 0.0004\n",
      "SD: 0.0134\n"
     ]
    }
   ],
   "source": [
    "print('Mean:', round(glaxo.gain.mean(),4))\n",
    "print('SD:', round(glaxo.gain.std(),4))"
   ]
  },
  {
   "cell_type": "code",
   "execution_count": 80,
   "metadata": {},
   "outputs": [
    {
     "name": "stdout",
     "output_type": "stream",
     "text": [
      "Mean: 0.0003\n",
      "SD: 0.0264\n"
     ]
    }
   ],
   "source": [
    "print('Mean:', round(beml.gain.mean(),4))\n",
    "print('SD:', round(beml.gain.std(),4))"
   ]
  },
  {
   "cell_type": "code",
   "execution_count": 82,
   "metadata": {},
   "outputs": [],
   "source": [
    "from scipy import stats"
   ]
  },
  {
   "cell_type": "code",
   "execution_count": 88,
   "metadata": {},
   "outputs": [
    {
     "data": {
      "text/plain": [
       "0.06352488667177397"
      ]
     },
     "execution_count": 88,
     "metadata": {},
     "output_type": "execute_result"
    }
   ],
   "source": [
    "#Probability of making 2% loss or higher in Glaxo\n",
    "stats.norm.cdf(-0.02,\n",
    "              loc=glaxo.gain.mean(),\n",
    "               scale=glaxo.gain.std()\n",
    "              )"
   ]
  },
  {
   "cell_type": "code",
   "execution_count": 89,
   "metadata": {},
   "outputs": [
    {
     "data": {
      "text/plain": [
       "0.22155987503755292"
      ]
     },
     "execution_count": 89,
     "metadata": {},
     "output_type": "execute_result"
    }
   ],
   "source": [
    "stats.norm.cdf(-0.02,\n",
    "              loc=beml.gain.mean(),\n",
    "               scale=beml.gain.std()\n",
    "              )"
   ]
  },
  {
   "cell_type": "code",
   "execution_count": 92,
   "metadata": {},
   "outputs": [
    {
     "data": {
      "text/plain": [
       "0.07104511457618568"
      ]
     },
     "execution_count": 92,
     "metadata": {},
     "output_type": "execute_result"
    }
   ],
   "source": [
    "#Probability of making 2% gain or higher in Glaxo\n",
    "1-stats.norm.cdf(0.02,\n",
    "              loc=glaxo.gain.mean(),\n",
    "               scale=glaxo.gain.std()\n",
    "              )"
   ]
  },
  {
   "cell_type": "code",
   "execution_count": 93,
   "metadata": {},
   "outputs": [
    {
     "data": {
      "text/plain": [
       "0.22769829484075343"
      ]
     },
     "execution_count": 93,
     "metadata": {},
     "output_type": "execute_result"
    }
   ],
   "source": [
    "1-stats.norm.cdf(0.02,\n",
    "              loc=beml.gain.mean(),\n",
    "               scale=beml.gain.std()\n",
    "              )"
   ]
  },
  {
   "cell_type": "code",
   "execution_count": null,
   "metadata": {},
   "outputs": [],
   "source": []
  }
 ],
 "metadata": {
  "kernelspec": {
   "display_name": "Python 3",
   "language": "python",
   "name": "python3"
  },
  "language_info": {
   "codemirror_mode": {
    "name": "ipython",
    "version": 3
   },
   "file_extension": ".py",
   "mimetype": "text/x-python",
   "name": "python",
   "nbconvert_exporter": "python",
   "pygments_lexer": "ipython3",
   "version": "3.8.3"
  }
 },
 "nbformat": 4,
 "nbformat_minor": 4
}
