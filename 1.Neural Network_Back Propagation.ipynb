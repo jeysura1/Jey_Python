{
 "cells": [
  {
   "cell_type": "markdown",
   "metadata": {},
   "source": [
    "## Back Propagation method"
   ]
  },
  {
   "cell_type": "code",
   "execution_count": 2,
   "metadata": {
    "ExecuteTime": {
     "end_time": "2020-11-15T11:59:20.050811Z",
     "start_time": "2020-11-15T11:58:27.798377Z"
    }
   },
   "outputs": [],
   "source": [
    "# Create your first MLP in Keras\n",
    "from keras.models import Sequential\n",
    "from keras.layers import Dense\n",
    "import numpy \n",
    "import pandas as pd"
   ]
  },
  {
   "cell_type": "code",
   "execution_count": 19,
   "metadata": {},
   "outputs": [],
   "source": [
    "# fix random seed for reproducibility\n",
    "seed = 7\n",
    "numpy.random.seed(seed)"
   ]
  },
  {
   "cell_type": "code",
   "execution_count": 3,
   "metadata": {
    "ExecuteTime": {
     "end_time": "2020-11-15T11:59:25.510486Z",
     "start_time": "2020-11-15T11:59:25.456504Z"
    }
   },
   "outputs": [
    {
     "data": {
      "text/html": [
       "<div>\n",
       "<style scoped>\n",
       "    .dataframe tbody tr th:only-of-type {\n",
       "        vertical-align: middle;\n",
       "    }\n",
       "\n",
       "    .dataframe tbody tr th {\n",
       "        vertical-align: top;\n",
       "    }\n",
       "\n",
       "    .dataframe thead th {\n",
       "        text-align: right;\n",
       "    }\n",
       "</style>\n",
       "<table border=\"1\" class=\"dataframe\">\n",
       "  <thead>\n",
       "    <tr style=\"text-align: right;\">\n",
       "      <th></th>\n",
       "      <th>6</th>\n",
       "      <th>148</th>\n",
       "      <th>72</th>\n",
       "      <th>35</th>\n",
       "      <th>0</th>\n",
       "      <th>33.6</th>\n",
       "      <th>0.627</th>\n",
       "      <th>50</th>\n",
       "      <th>1</th>\n",
       "    </tr>\n",
       "  </thead>\n",
       "  <tbody>\n",
       "    <tr>\n",
       "      <th>0</th>\n",
       "      <td>1</td>\n",
       "      <td>85</td>\n",
       "      <td>66</td>\n",
       "      <td>29</td>\n",
       "      <td>0</td>\n",
       "      <td>26.6</td>\n",
       "      <td>0.351</td>\n",
       "      <td>31</td>\n",
       "      <td>0</td>\n",
       "    </tr>\n",
       "    <tr>\n",
       "      <th>1</th>\n",
       "      <td>8</td>\n",
       "      <td>183</td>\n",
       "      <td>64</td>\n",
       "      <td>0</td>\n",
       "      <td>0</td>\n",
       "      <td>23.3</td>\n",
       "      <td>0.672</td>\n",
       "      <td>32</td>\n",
       "      <td>1</td>\n",
       "    </tr>\n",
       "    <tr>\n",
       "      <th>2</th>\n",
       "      <td>1</td>\n",
       "      <td>89</td>\n",
       "      <td>66</td>\n",
       "      <td>23</td>\n",
       "      <td>94</td>\n",
       "      <td>28.1</td>\n",
       "      <td>0.167</td>\n",
       "      <td>21</td>\n",
       "      <td>0</td>\n",
       "    </tr>\n",
       "    <tr>\n",
       "      <th>3</th>\n",
       "      <td>0</td>\n",
       "      <td>137</td>\n",
       "      <td>40</td>\n",
       "      <td>35</td>\n",
       "      <td>168</td>\n",
       "      <td>43.1</td>\n",
       "      <td>2.288</td>\n",
       "      <td>33</td>\n",
       "      <td>1</td>\n",
       "    </tr>\n",
       "    <tr>\n",
       "      <th>4</th>\n",
       "      <td>5</td>\n",
       "      <td>116</td>\n",
       "      <td>74</td>\n",
       "      <td>0</td>\n",
       "      <td>0</td>\n",
       "      <td>25.6</td>\n",
       "      <td>0.201</td>\n",
       "      <td>30</td>\n",
       "      <td>0</td>\n",
       "    </tr>\n",
       "    <tr>\n",
       "      <th>...</th>\n",
       "      <td>...</td>\n",
       "      <td>...</td>\n",
       "      <td>...</td>\n",
       "      <td>...</td>\n",
       "      <td>...</td>\n",
       "      <td>...</td>\n",
       "      <td>...</td>\n",
       "      <td>...</td>\n",
       "      <td>...</td>\n",
       "    </tr>\n",
       "    <tr>\n",
       "      <th>762</th>\n",
       "      <td>10</td>\n",
       "      <td>101</td>\n",
       "      <td>76</td>\n",
       "      <td>48</td>\n",
       "      <td>180</td>\n",
       "      <td>32.9</td>\n",
       "      <td>0.171</td>\n",
       "      <td>63</td>\n",
       "      <td>0</td>\n",
       "    </tr>\n",
       "    <tr>\n",
       "      <th>763</th>\n",
       "      <td>2</td>\n",
       "      <td>122</td>\n",
       "      <td>70</td>\n",
       "      <td>27</td>\n",
       "      <td>0</td>\n",
       "      <td>36.8</td>\n",
       "      <td>0.340</td>\n",
       "      <td>27</td>\n",
       "      <td>0</td>\n",
       "    </tr>\n",
       "    <tr>\n",
       "      <th>764</th>\n",
       "      <td>5</td>\n",
       "      <td>121</td>\n",
       "      <td>72</td>\n",
       "      <td>23</td>\n",
       "      <td>112</td>\n",
       "      <td>26.2</td>\n",
       "      <td>0.245</td>\n",
       "      <td>30</td>\n",
       "      <td>0</td>\n",
       "    </tr>\n",
       "    <tr>\n",
       "      <th>765</th>\n",
       "      <td>1</td>\n",
       "      <td>126</td>\n",
       "      <td>60</td>\n",
       "      <td>0</td>\n",
       "      <td>0</td>\n",
       "      <td>30.1</td>\n",
       "      <td>0.349</td>\n",
       "      <td>47</td>\n",
       "      <td>1</td>\n",
       "    </tr>\n",
       "    <tr>\n",
       "      <th>766</th>\n",
       "      <td>1</td>\n",
       "      <td>93</td>\n",
       "      <td>70</td>\n",
       "      <td>31</td>\n",
       "      <td>0</td>\n",
       "      <td>30.4</td>\n",
       "      <td>0.315</td>\n",
       "      <td>23</td>\n",
       "      <td>0</td>\n",
       "    </tr>\n",
       "  </tbody>\n",
       "</table>\n",
       "<p>767 rows × 9 columns</p>\n",
       "</div>"
      ],
      "text/plain": [
       "      6  148  72  35    0  33.6  0.627  50  1\n",
       "0     1   85  66  29    0  26.6  0.351  31  0\n",
       "1     8  183  64   0    0  23.3  0.672  32  1\n",
       "2     1   89  66  23   94  28.1  0.167  21  0\n",
       "3     0  137  40  35  168  43.1  2.288  33  1\n",
       "4     5  116  74   0    0  25.6  0.201  30  0\n",
       "..   ..  ...  ..  ..  ...   ...    ...  .. ..\n",
       "762  10  101  76  48  180  32.9  0.171  63  0\n",
       "763   2  122  70  27    0  36.8  0.340  27  0\n",
       "764   5  121  72  23  112  26.2  0.245  30  0\n",
       "765   1  126  60   0    0  30.1  0.349  47  1\n",
       "766   1   93  70  31    0  30.4  0.315  23  0\n",
       "\n",
       "[767 rows x 9 columns]"
      ]
     },
     "execution_count": 3,
     "metadata": {},
     "output_type": "execute_result"
    }
   ],
   "source": [
    "# load pima indians dataset\n",
    "orig =pd.read_csv(\"D://DataScience/Data/pima-indians-diabetes.data.csv\",delimiter=\",\")\n",
    "orig"
   ]
  },
  {
   "cell_type": "code",
   "execution_count": 4,
   "metadata": {},
   "outputs": [],
   "source": [
    "dataset=orig.values"
   ]
  },
  {
   "cell_type": "code",
   "execution_count": 5,
   "metadata": {},
   "outputs": [],
   "source": [
    "# split into input (X) and output (Y) variables\n",
    "X = dataset[:,0:8]\n",
    "Y = dataset[:,8]"
   ]
  },
  {
   "cell_type": "code",
   "execution_count": 6,
   "metadata": {
    "ExecuteTime": {
     "end_time": "2020-11-15T11:59:30.448765Z",
     "start_time": "2020-11-15T11:59:29.148496Z"
    }
   },
   "outputs": [],
   "source": [
    "# create model\n",
    "model = Sequential()\n",
    "model.add(Dense(12, input_dim=8, kernel_initializer='uniform', activation='relu'))\n",
    "model.add(Dense(8, kernel_initializer='uniform', activation='relu'))\n",
    "model.add(Dense(1, kernel_initializer='uniform', activation='sigmoid'))"
   ]
  },
  {
   "attachments": {
    "image.png": {
     "image/png": "[encoded data removed]"
    }
   },
   "cell_type": "markdown",
   "metadata": {},
   "source": [
    "![image.png](attachment:image.png)"
   ]
  },
  {
   "cell_type": "code",
   "execution_count": 7,
   "metadata": {
    "ExecuteTime": {
     "end_time": "2020-11-15T11:59:58.694066Z",
     "start_time": "2020-11-15T11:59:58.565840Z"
    }
   },
   "outputs": [],
   "source": [
    "# Compile model (what kind of error function, optimizer will have to be used)\n",
    "model.compile(loss='binary_crossentropy', optimizer='adam', metrics=['accuracy'])"
   ]
  },
  {
   "cell_type": "code",
   "execution_count": 8,
   "metadata": {
    "ExecuteTime": {
     "end_time": "2020-11-15T12:00:21.545974Z",
     "start_time": "2020-11-15T12:00:01.188996Z"
    }
   },
   "outputs": [
    {
     "name": "stdout",
     "output_type": "stream",
     "text": [
      "Epoch 1/150\n",
      "52/52 [==============================] - 0s 9ms/step - loss: 0.6869 - accuracy: 0.6101 - val_loss: 0.6687 - val_accuracy: 0.6732\n",
      "Epoch 2/150\n",
      "52/52 [==============================] - 0s 3ms/step - loss: 0.6676 - accuracy: 0.6413 - val_loss: 0.6560 - val_accuracy: 0.6732\n",
      "Epoch 3/150\n",
      "52/52 [==============================] - 0s 4ms/step - loss: 0.6585 - accuracy: 0.6413 - val_loss: 0.6503 - val_accuracy: 0.6732\n",
      "Epoch 4/150\n",
      "52/52 [==============================] - 0s 3ms/step - loss: 0.6533 - accuracy: 0.6413 - val_loss: 0.6476 - val_accuracy: 0.6732\n",
      "Epoch 5/150\n",
      "52/52 [==============================] - 0s 3ms/step - loss: 0.6474 - accuracy: 0.6394 - val_loss: 0.6415 - val_accuracy: 0.6850\n",
      "Epoch 6/150\n",
      "52/52 [==============================] - 0s 3ms/step - loss: 0.6403 - accuracy: 0.6511 - val_loss: 0.6355 - val_accuracy: 0.6811\n",
      "Epoch 7/150\n",
      "52/52 [==============================] - 0s 5ms/step - loss: 0.6354 - accuracy: 0.6374 - val_loss: 0.6307 - val_accuracy: 0.6496\n",
      "Epoch 8/150\n",
      "52/52 [==============================] - 0s 3ms/step - loss: 0.6359 - accuracy: 0.6491 - val_loss: 0.6243 - val_accuracy: 0.6850\n",
      "Epoch 9/150\n",
      "52/52 [==============================] - 0s 3ms/step - loss: 0.6189 - accuracy: 0.6764 - val_loss: 0.6368 - val_accuracy: 0.6181\n",
      "Epoch 10/150\n",
      "52/52 [==============================] - 0s 3ms/step - loss: 0.6155 - accuracy: 0.6823 - val_loss: 0.6279 - val_accuracy: 0.6260\n",
      "Epoch 11/150\n",
      "52/52 [==============================] - 0s 3ms/step - loss: 0.6169 - accuracy: 0.6764 - val_loss: 0.6236 - val_accuracy: 0.6417\n",
      "Epoch 12/150\n",
      "52/52 [==============================] - 0s 3ms/step - loss: 0.6169 - accuracy: 0.6686 - val_loss: 0.6067 - val_accuracy: 0.6890\n",
      "Epoch 13/150\n",
      "52/52 [==============================] - 0s 3ms/step - loss: 0.6062 - accuracy: 0.6686 - val_loss: 0.6017 - val_accuracy: 0.6614\n",
      "Epoch 14/150\n",
      "52/52 [==============================] - 0s 3ms/step - loss: 0.6093 - accuracy: 0.6881 - val_loss: 0.6211 - val_accuracy: 0.6181\n",
      "Epoch 15/150\n",
      "52/52 [==============================] - 0s 2ms/step - loss: 0.6025 - accuracy: 0.6706 - val_loss: 0.5936 - val_accuracy: 0.6969\n",
      "Epoch 16/150\n",
      "52/52 [==============================] - 0s 3ms/step - loss: 0.5943 - accuracy: 0.6940 - val_loss: 0.5908 - val_accuracy: 0.6929\n",
      "Epoch 17/150\n",
      "52/52 [==============================] - 0s 4ms/step - loss: 0.5937 - accuracy: 0.6842 - val_loss: 0.5889 - val_accuracy: 0.6811\n",
      "Epoch 18/150\n",
      "52/52 [==============================] - 0s 3ms/step - loss: 0.5902 - accuracy: 0.6725 - val_loss: 0.5937 - val_accuracy: 0.6969\n",
      "Epoch 19/150\n",
      "52/52 [==============================] - 0s 3ms/step - loss: 0.5948 - accuracy: 0.6862 - val_loss: 0.5876 - val_accuracy: 0.6890\n",
      "Epoch 20/150\n",
      "52/52 [==============================] - 0s 3ms/step - loss: 0.5835 - accuracy: 0.7076 - val_loss: 0.5834 - val_accuracy: 0.7008\n",
      "Epoch 21/150\n",
      "52/52 [==============================] - 0s 3ms/step - loss: 0.5829 - accuracy: 0.7018 - val_loss: 0.5882 - val_accuracy: 0.6654\n",
      "Epoch 22/150\n",
      "52/52 [==============================] - 0s 3ms/step - loss: 0.5823 - accuracy: 0.6862 - val_loss: 0.5946 - val_accuracy: 0.6969\n",
      "Epoch 23/150\n",
      "52/52 [==============================] - 0s 3ms/step - loss: 0.5938 - accuracy: 0.6803 - val_loss: 0.5860 - val_accuracy: 0.7008\n",
      "Epoch 24/150\n",
      "52/52 [==============================] - 0s 3ms/step - loss: 0.5862 - accuracy: 0.6862 - val_loss: 0.5842 - val_accuracy: 0.7087\n",
      "Epoch 25/150\n",
      "52/52 [==============================] - 0s 3ms/step - loss: 0.5755 - accuracy: 0.6862 - val_loss: 0.5907 - val_accuracy: 0.6496\n",
      "Epoch 26/150\n",
      "52/52 [==============================] - 0s 2ms/step - loss: 0.5782 - accuracy: 0.6881 - val_loss: 0.5803 - val_accuracy: 0.6693\n",
      "Epoch 27/150\n",
      "52/52 [==============================] - 0s 3ms/step - loss: 0.5785 - accuracy: 0.7018 - val_loss: 0.5794 - val_accuracy: 0.7126\n",
      "Epoch 28/150\n",
      "52/52 [==============================] - 0s 3ms/step - loss: 0.5704 - accuracy: 0.7173 - val_loss: 0.5810 - val_accuracy: 0.6693\n",
      "Epoch 29/150\n",
      "52/52 [==============================] - 0s 3ms/step - loss: 0.5742 - accuracy: 0.7135 - val_loss: 0.5841 - val_accuracy: 0.6614\n",
      "Epoch 30/150\n",
      "52/52 [==============================] - 0s 3ms/step - loss: 0.5740 - accuracy: 0.7018 - val_loss: 0.5807 - val_accuracy: 0.6850\n",
      "Epoch 31/150\n",
      "52/52 [==============================] - 0s 2ms/step - loss: 0.5775 - accuracy: 0.7096 - val_loss: 0.5819 - val_accuracy: 0.6693\n",
      "Epoch 32/150\n",
      "52/52 [==============================] - 0s 3ms/step - loss: 0.5761 - accuracy: 0.7018 - val_loss: 0.5785 - val_accuracy: 0.6732\n",
      "Epoch 33/150\n",
      "52/52 [==============================] - 0s 3ms/step - loss: 0.5698 - accuracy: 0.7212 - val_loss: 0.5847 - val_accuracy: 0.7008\n",
      "Epoch 34/150\n",
      "52/52 [==============================] - 0s 3ms/step - loss: 0.5728 - accuracy: 0.6979 - val_loss: 0.5760 - val_accuracy: 0.6850\n",
      "Epoch 35/150\n",
      "52/52 [==============================] - 0s 2ms/step - loss: 0.5672 - accuracy: 0.7212 - val_loss: 0.5839 - val_accuracy: 0.6811\n",
      "Epoch 36/150\n",
      "52/52 [==============================] - 0s 4ms/step - loss: 0.5643 - accuracy: 0.7096 - val_loss: 0.6065 - val_accuracy: 0.6024\n",
      "Epoch 37/150\n",
      "52/52 [==============================] - 0s 4ms/step - loss: 0.5766 - accuracy: 0.7115 - val_loss: 0.5876 - val_accuracy: 0.7008\n",
      "Epoch 38/150\n",
      "52/52 [==============================] - 0s 3ms/step - loss: 0.5631 - accuracy: 0.7173 - val_loss: 0.5886 - val_accuracy: 0.6969\n",
      "Epoch 39/150\n",
      "52/52 [==============================] - 0s 2ms/step - loss: 0.5658 - accuracy: 0.7232 - val_loss: 0.5885 - val_accuracy: 0.6850\n",
      "Epoch 40/150\n",
      "52/52 [==============================] - 0s 2ms/step - loss: 0.5595 - accuracy: 0.7251 - val_loss: 0.5765 - val_accuracy: 0.6811\n",
      "Epoch 41/150\n",
      "52/52 [==============================] - 0s 3ms/step - loss: 0.5588 - accuracy: 0.7251 - val_loss: 0.5885 - val_accuracy: 0.6969\n",
      "Epoch 42/150\n",
      "52/52 [==============================] - 0s 2ms/step - loss: 0.5624 - accuracy: 0.7232 - val_loss: 0.5875 - val_accuracy: 0.7008\n",
      "Epoch 43/150\n",
      "52/52 [==============================] - 0s 3ms/step - loss: 0.5653 - accuracy: 0.7212 - val_loss: 0.5772 - val_accuracy: 0.6890\n",
      "Epoch 44/150\n",
      "52/52 [==============================] - 0s 3ms/step - loss: 0.5556 - accuracy: 0.7349 - val_loss: 0.5835 - val_accuracy: 0.6575\n",
      "Epoch 45/150\n",
      "52/52 [==============================] - 0s 3ms/step - loss: 0.5577 - accuracy: 0.7115 - val_loss: 0.5871 - val_accuracy: 0.6378\n",
      "Epoch 46/150\n",
      "52/52 [==============================] - 0s 3ms/step - loss: 0.5536 - accuracy: 0.7173 - val_loss: 0.5839 - val_accuracy: 0.6654\n",
      "Epoch 47/150\n",
      "52/52 [==============================] - 0s 3ms/step - loss: 0.5627 - accuracy: 0.7037 - val_loss: 0.5881 - val_accuracy: 0.6457\n",
      "Epoch 48/150\n",
      "52/52 [==============================] - 0s 2ms/step - loss: 0.5720 - accuracy: 0.7251 - val_loss: 0.5778 - val_accuracy: 0.6850\n",
      "Epoch 49/150\n",
      "52/52 [==============================] - 0s 3ms/step - loss: 0.5560 - accuracy: 0.7135 - val_loss: 0.5781 - val_accuracy: 0.6969\n",
      "Epoch 50/150\n",
      "52/52 [==============================] - 0s 2ms/step - loss: 0.5571 - accuracy: 0.7193 - val_loss: 0.5731 - val_accuracy: 0.6850\n",
      "Epoch 51/150\n",
      "52/52 [==============================] - 0s 3ms/step - loss: 0.5535 - accuracy: 0.7290 - val_loss: 0.5988 - val_accuracy: 0.7047\n",
      "Epoch 52/150\n",
      "52/52 [==============================] - 0s 3ms/step - loss: 0.5511 - accuracy: 0.7388 - val_loss: 0.5722 - val_accuracy: 0.6850\n",
      "Epoch 53/150\n",
      "52/52 [==============================] - 0s 3ms/step - loss: 0.5557 - accuracy: 0.7193 - val_loss: 0.5717 - val_accuracy: 0.6929\n",
      "Epoch 54/150\n",
      "52/52 [==============================] - 0s 3ms/step - loss: 0.5472 - accuracy: 0.7368 - val_loss: 0.5718 - val_accuracy: 0.6929\n",
      "Epoch 55/150\n",
      "52/52 [==============================] - 0s 3ms/step - loss: 0.5467 - accuracy: 0.7232 - val_loss: 0.5770 - val_accuracy: 0.6969\n",
      "Epoch 56/150\n",
      "52/52 [==============================] - 0s 3ms/step - loss: 0.5498 - accuracy: 0.7349 - val_loss: 0.5722 - val_accuracy: 0.6929\n",
      "Epoch 57/150\n",
      "52/52 [==============================] - 0s 3ms/step - loss: 0.5489 - accuracy: 0.7271 - val_loss: 0.5747 - val_accuracy: 0.7047\n",
      "Epoch 58/150\n",
      "52/52 [==============================] - 0s 3ms/step - loss: 0.5484 - accuracy: 0.7388 - val_loss: 0.5768 - val_accuracy: 0.6693\n"
     ]
    },
    {
     "name": "stdout",
     "output_type": "stream",
     "text": [
      "Epoch 59/150\n",
      "52/52 [==============================] - 0s 3ms/step - loss: 0.5485 - accuracy: 0.7310 - val_loss: 0.5696 - val_accuracy: 0.7047\n",
      "Epoch 60/150\n",
      "52/52 [==============================] - 0s 3ms/step - loss: 0.5494 - accuracy: 0.7232 - val_loss: 0.5756 - val_accuracy: 0.6654\n",
      "Epoch 61/150\n",
      "52/52 [==============================] - 0s 2ms/step - loss: 0.5411 - accuracy: 0.7368 - val_loss: 0.5665 - val_accuracy: 0.7008\n",
      "Epoch 62/150\n",
      "52/52 [==============================] - 0s 2ms/step - loss: 0.5414 - accuracy: 0.7427 - val_loss: 0.5697 - val_accuracy: 0.7087\n",
      "Epoch 63/150\n",
      "52/52 [==============================] - 0s 2ms/step - loss: 0.5411 - accuracy: 0.7505 - val_loss: 0.5697 - val_accuracy: 0.7008\n",
      "Epoch 64/150\n",
      "52/52 [==============================] - 0s 2ms/step - loss: 0.5413 - accuracy: 0.7388 - val_loss: 0.5722 - val_accuracy: 0.6929\n",
      "Epoch 65/150\n",
      "52/52 [==============================] - 0s 3ms/step - loss: 0.5437 - accuracy: 0.7271 - val_loss: 0.5746 - val_accuracy: 0.7047\n",
      "Epoch 66/150\n",
      "52/52 [==============================] - 0s 2ms/step - loss: 0.5396 - accuracy: 0.7329 - val_loss: 0.5737 - val_accuracy: 0.7047\n",
      "Epoch 67/150\n",
      "52/52 [==============================] - 0s 2ms/step - loss: 0.5434 - accuracy: 0.7290 - val_loss: 0.5773 - val_accuracy: 0.7008\n",
      "Epoch 68/150\n",
      "52/52 [==============================] - 0s 3ms/step - loss: 0.5387 - accuracy: 0.7446 - val_loss: 0.5676 - val_accuracy: 0.7126\n",
      "Epoch 69/150\n",
      "52/52 [==============================] - 0s 3ms/step - loss: 0.5515 - accuracy: 0.7388 - val_loss: 0.5857 - val_accuracy: 0.7087\n",
      "Epoch 70/150\n",
      "52/52 [==============================] - 0s 3ms/step - loss: 0.5467 - accuracy: 0.7388 - val_loss: 0.5705 - val_accuracy: 0.7087\n",
      "Epoch 71/150\n",
      "52/52 [==============================] - 0s 3ms/step - loss: 0.5315 - accuracy: 0.7583 - val_loss: 0.5744 - val_accuracy: 0.7087\n",
      "Epoch 72/150\n",
      "52/52 [==============================] - 0s 4ms/step - loss: 0.5443 - accuracy: 0.7388 - val_loss: 0.5648 - val_accuracy: 0.7008\n",
      "Epoch 73/150\n",
      "52/52 [==============================] - 0s 3ms/step - loss: 0.5338 - accuracy: 0.7329 - val_loss: 0.5616 - val_accuracy: 0.7165\n",
      "Epoch 74/150\n",
      "52/52 [==============================] - 0s 3ms/step - loss: 0.5344 - accuracy: 0.7329 - val_loss: 0.5615 - val_accuracy: 0.7244\n",
      "Epoch 75/150\n",
      "52/52 [==============================] - 0s 3ms/step - loss: 0.5339 - accuracy: 0.7524 - val_loss: 0.5637 - val_accuracy: 0.7126\n",
      "Epoch 76/150\n",
      "52/52 [==============================] - 0s 2ms/step - loss: 0.5395 - accuracy: 0.7349 - val_loss: 0.5667 - val_accuracy: 0.7165\n",
      "Epoch 77/150\n",
      "52/52 [==============================] - 0s 2ms/step - loss: 0.5360 - accuracy: 0.7368 - val_loss: 0.5639 - val_accuracy: 0.7205\n",
      "Epoch 78/150\n",
      "52/52 [==============================] - 0s 3ms/step - loss: 0.5316 - accuracy: 0.7368 - val_loss: 0.5611 - val_accuracy: 0.7087\n",
      "Epoch 79/150\n",
      "52/52 [==============================] - 0s 2ms/step - loss: 0.5362 - accuracy: 0.7407 - val_loss: 0.5646 - val_accuracy: 0.7008\n",
      "Epoch 80/150\n",
      "52/52 [==============================] - 0s 2ms/step - loss: 0.5366 - accuracy: 0.7388 - val_loss: 0.5572 - val_accuracy: 0.7244\n",
      "Epoch 81/150\n",
      "52/52 [==============================] - 0s 2ms/step - loss: 0.5271 - accuracy: 0.7407 - val_loss: 0.5652 - val_accuracy: 0.7165\n",
      "Epoch 82/150\n",
      "52/52 [==============================] - 0s 2ms/step - loss: 0.5353 - accuracy: 0.7427 - val_loss: 0.5614 - val_accuracy: 0.7205\n",
      "Epoch 83/150\n",
      "52/52 [==============================] - 0s 3ms/step - loss: 0.5303 - accuracy: 0.7388 - val_loss: 0.5519 - val_accuracy: 0.7205\n",
      "Epoch 84/150\n",
      "52/52 [==============================] - 0s 3ms/step - loss: 0.5305 - accuracy: 0.7329 - val_loss: 0.5567 - val_accuracy: 0.7244\n",
      "Epoch 85/150\n",
      "52/52 [==============================] - 0s 3ms/step - loss: 0.5221 - accuracy: 0.7563 - val_loss: 0.5722 - val_accuracy: 0.7205\n",
      "Epoch 86/150\n",
      "52/52 [==============================] - 0s 3ms/step - loss: 0.5334 - accuracy: 0.7388 - val_loss: 0.5574 - val_accuracy: 0.7087\n",
      "Epoch 87/150\n",
      "52/52 [==============================] - 0s 2ms/step - loss: 0.5267 - accuracy: 0.7583 - val_loss: 0.5515 - val_accuracy: 0.7323\n",
      "Epoch 88/150\n",
      "52/52 [==============================] - 0s 2ms/step - loss: 0.5257 - accuracy: 0.7427 - val_loss: 0.5576 - val_accuracy: 0.7205\n",
      "Epoch 89/150\n",
      "52/52 [==============================] - 0s 2ms/step - loss: 0.5227 - accuracy: 0.7544 - val_loss: 0.5470 - val_accuracy: 0.7205\n",
      "Epoch 90/150\n",
      "52/52 [==============================] - 0s 2ms/step - loss: 0.5244 - accuracy: 0.7466 - val_loss: 0.5852 - val_accuracy: 0.7165\n",
      "Epoch 91/150\n",
      "52/52 [==============================] - 0s 2ms/step - loss: 0.5331 - accuracy: 0.7622 - val_loss: 0.5707 - val_accuracy: 0.7205\n",
      "Epoch 92/150\n",
      "52/52 [==============================] - 0s 2ms/step - loss: 0.5222 - accuracy: 0.7583 - val_loss: 0.5554 - val_accuracy: 0.7205\n",
      "Epoch 93/150\n",
      "52/52 [==============================] - 0s 2ms/step - loss: 0.5224 - accuracy: 0.7563 - val_loss: 0.5630 - val_accuracy: 0.7205\n",
      "Epoch 94/150\n",
      "52/52 [==============================] - 0s 2ms/step - loss: 0.5282 - accuracy: 0.7368 - val_loss: 0.5491 - val_accuracy: 0.7205\n",
      "Epoch 95/150\n",
      "52/52 [==============================] - 0s 2ms/step - loss: 0.5202 - accuracy: 0.7466 - val_loss: 0.5455 - val_accuracy: 0.7205\n",
      "Epoch 96/150\n",
      "52/52 [==============================] - 0s 2ms/step - loss: 0.5291 - accuracy: 0.7407 - val_loss: 0.5529 - val_accuracy: 0.7126\n",
      "Epoch 97/150\n",
      "52/52 [==============================] - 0s 2ms/step - loss: 0.5213 - accuracy: 0.7446 - val_loss: 0.5588 - val_accuracy: 0.7087\n",
      "Epoch 98/150\n",
      "52/52 [==============================] - 0s 2ms/step - loss: 0.5254 - accuracy: 0.7446 - val_loss: 0.5473 - val_accuracy: 0.7283\n",
      "Epoch 99/150\n",
      "52/52 [==============================] - 0s 2ms/step - loss: 0.5130 - accuracy: 0.7388 - val_loss: 0.5499 - val_accuracy: 0.7205\n",
      "Epoch 100/150\n",
      "52/52 [==============================] - 0s 2ms/step - loss: 0.5204 - accuracy: 0.7446 - val_loss: 0.5518 - val_accuracy: 0.7323\n",
      "Epoch 101/150\n",
      "52/52 [==============================] - 0s 2ms/step - loss: 0.5194 - accuracy: 0.7622 - val_loss: 0.5514 - val_accuracy: 0.7480\n",
      "Epoch 102/150\n",
      "52/52 [==============================] - 0s 2ms/step - loss: 0.5223 - accuracy: 0.7485 - val_loss: 0.5507 - val_accuracy: 0.7323\n",
      "Epoch 103/150\n",
      "52/52 [==============================] - 0s 2ms/step - loss: 0.5154 - accuracy: 0.7602 - val_loss: 0.5440 - val_accuracy: 0.7244\n",
      "Epoch 104/150\n",
      "52/52 [==============================] - 0s 2ms/step - loss: 0.5129 - accuracy: 0.7602 - val_loss: 0.5451 - val_accuracy: 0.7244\n",
      "Epoch 105/150\n",
      "52/52 [==============================] - 0s 2ms/step - loss: 0.5175 - accuracy: 0.7446 - val_loss: 0.5532 - val_accuracy: 0.7165\n",
      "Epoch 106/150\n",
      "52/52 [==============================] - 0s 2ms/step - loss: 0.5286 - accuracy: 0.7388 - val_loss: 0.5514 - val_accuracy: 0.7283\n",
      "Epoch 107/150\n",
      "52/52 [==============================] - 0s 2ms/step - loss: 0.5105 - accuracy: 0.7661 - val_loss: 0.5693 - val_accuracy: 0.7165\n",
      "Epoch 108/150\n",
      "52/52 [==============================] - 0s 2ms/step - loss: 0.5195 - accuracy: 0.7563 - val_loss: 0.5481 - val_accuracy: 0.7283\n",
      "Epoch 109/150\n",
      "52/52 [==============================] - 0s 2ms/step - loss: 0.5178 - accuracy: 0.7407 - val_loss: 0.5403 - val_accuracy: 0.7283\n",
      "Epoch 110/150\n",
      "52/52 [==============================] - 0s 2ms/step - loss: 0.5106 - accuracy: 0.7563 - val_loss: 0.5506 - val_accuracy: 0.7244\n",
      "Epoch 111/150\n",
      "52/52 [==============================] - 0s 2ms/step - loss: 0.5194 - accuracy: 0.7524 - val_loss: 0.5426 - val_accuracy: 0.7165\n",
      "Epoch 112/150\n",
      "52/52 [==============================] - 0s 2ms/step - loss: 0.5114 - accuracy: 0.7544 - val_loss: 0.5387 - val_accuracy: 0.7323\n",
      "Epoch 113/150\n",
      "52/52 [==============================] - 0s 2ms/step - loss: 0.5177 - accuracy: 0.7466 - val_loss: 0.5347 - val_accuracy: 0.7323\n",
      "Epoch 114/150\n",
      "52/52 [==============================] - 0s 2ms/step - loss: 0.5213 - accuracy: 0.7524 - val_loss: 0.5563 - val_accuracy: 0.7205\n",
      "Epoch 115/150\n",
      "52/52 [==============================] - 0s 2ms/step - loss: 0.5123 - accuracy: 0.7505 - val_loss: 0.5376 - val_accuracy: 0.7362\n",
      "Epoch 116/150\n"
     ]
    },
    {
     "name": "stdout",
     "output_type": "stream",
     "text": [
      "52/52 [==============================] - 0s 2ms/step - loss: 0.5334 - accuracy: 0.7427 - val_loss: 0.5706 - val_accuracy: 0.7126\n",
      "Epoch 117/150\n",
      "52/52 [==============================] - 0s 2ms/step - loss: 0.5202 - accuracy: 0.7446 - val_loss: 0.5341 - val_accuracy: 0.7362\n",
      "Epoch 118/150\n",
      "52/52 [==============================] - 0s 2ms/step - loss: 0.5112 - accuracy: 0.7563 - val_loss: 0.5457 - val_accuracy: 0.7362\n",
      "Epoch 119/150\n",
      "52/52 [==============================] - 0s 2ms/step - loss: 0.5084 - accuracy: 0.7544 - val_loss: 0.5328 - val_accuracy: 0.7402\n",
      "Epoch 120/150\n",
      "52/52 [==============================] - 0s 2ms/step - loss: 0.5122 - accuracy: 0.7524 - val_loss: 0.5429 - val_accuracy: 0.7323\n",
      "Epoch 121/150\n",
      "52/52 [==============================] - 0s 2ms/step - loss: 0.5212 - accuracy: 0.7368 - val_loss: 0.5322 - val_accuracy: 0.7402\n",
      "Epoch 122/150\n",
      "52/52 [==============================] - 0s 2ms/step - loss: 0.5077 - accuracy: 0.7641 - val_loss: 0.5336 - val_accuracy: 0.7480\n",
      "Epoch 123/150\n",
      "52/52 [==============================] - 0s 2ms/step - loss: 0.5098 - accuracy: 0.7563 - val_loss: 0.5334 - val_accuracy: 0.7480\n",
      "Epoch 124/150\n",
      "52/52 [==============================] - 0s 2ms/step - loss: 0.5078 - accuracy: 0.7602 - val_loss: 0.5268 - val_accuracy: 0.7520\n",
      "Epoch 125/150\n",
      "52/52 [==============================] - 0s 2ms/step - loss: 0.5163 - accuracy: 0.7485 - val_loss: 0.5289 - val_accuracy: 0.7638\n",
      "Epoch 126/150\n",
      "52/52 [==============================] - 0s 2ms/step - loss: 0.5117 - accuracy: 0.7583 - val_loss: 0.5419 - val_accuracy: 0.7362\n",
      "Epoch 127/150\n",
      "52/52 [==============================] - 0s 2ms/step - loss: 0.5066 - accuracy: 0.7602 - val_loss: 0.5267 - val_accuracy: 0.7480\n",
      "Epoch 128/150\n",
      "52/52 [==============================] - 0s 2ms/step - loss: 0.5060 - accuracy: 0.7680 - val_loss: 0.5298 - val_accuracy: 0.7520\n",
      "Epoch 129/150\n",
      "52/52 [==============================] - 0s 2ms/step - loss: 0.5043 - accuracy: 0.7680 - val_loss: 0.5308 - val_accuracy: 0.7402\n",
      "Epoch 130/150\n",
      "52/52 [==============================] - 0s 2ms/step - loss: 0.5037 - accuracy: 0.7602 - val_loss: 0.5349 - val_accuracy: 0.7559\n",
      "Epoch 131/150\n",
      "52/52 [==============================] - 0s 2ms/step - loss: 0.5069 - accuracy: 0.7544 - val_loss: 0.5372 - val_accuracy: 0.7402\n",
      "Epoch 132/150\n",
      "52/52 [==============================] - 0s 2ms/step - loss: 0.5051 - accuracy: 0.7622 - val_loss: 0.5281 - val_accuracy: 0.7638\n",
      "Epoch 133/150\n",
      "52/52 [==============================] - 0s 2ms/step - loss: 0.5013 - accuracy: 0.7583 - val_loss: 0.5254 - val_accuracy: 0.7677\n",
      "Epoch 134/150\n",
      "52/52 [==============================] - 0s 2ms/step - loss: 0.5000 - accuracy: 0.7622 - val_loss: 0.5541 - val_accuracy: 0.7402\n",
      "Epoch 135/150\n",
      "52/52 [==============================] - 0s 2ms/step - loss: 0.5039 - accuracy: 0.7563 - val_loss: 0.5350 - val_accuracy: 0.7402\n",
      "Epoch 136/150\n",
      "52/52 [==============================] - 0s 2ms/step - loss: 0.5034 - accuracy: 0.7661 - val_loss: 0.5216 - val_accuracy: 0.7520\n",
      "Epoch 137/150\n",
      "52/52 [==============================] - 0s 2ms/step - loss: 0.5214 - accuracy: 0.7524 - val_loss: 0.5290 - val_accuracy: 0.7598\n",
      "Epoch 138/150\n",
      "52/52 [==============================] - 0s 2ms/step - loss: 0.5108 - accuracy: 0.7505 - val_loss: 0.5302 - val_accuracy: 0.7520\n",
      "Epoch 139/150\n",
      "52/52 [==============================] - 0s 2ms/step - loss: 0.5109 - accuracy: 0.7641 - val_loss: 0.5330 - val_accuracy: 0.7559\n",
      "Epoch 140/150\n",
      "52/52 [==============================] - 0s 2ms/step - loss: 0.5221 - accuracy: 0.7485 - val_loss: 0.5277 - val_accuracy: 0.7598\n",
      "Epoch 141/150\n",
      "52/52 [==============================] - 0s 2ms/step - loss: 0.5029 - accuracy: 0.7583 - val_loss: 0.5401 - val_accuracy: 0.7598\n",
      "Epoch 142/150\n",
      "52/52 [==============================] - 0s 2ms/step - loss: 0.5013 - accuracy: 0.7602 - val_loss: 0.5199 - val_accuracy: 0.7677\n",
      "Epoch 143/150\n",
      "52/52 [==============================] - 0s 3ms/step - loss: 0.5005 - accuracy: 0.7544 - val_loss: 0.5265 - val_accuracy: 0.7402\n",
      "Epoch 144/150\n",
      "52/52 [==============================] - 0s 2ms/step - loss: 0.4998 - accuracy: 0.7505 - val_loss: 0.5288 - val_accuracy: 0.7520\n",
      "Epoch 145/150\n",
      "52/52 [==============================] - 0s 2ms/step - loss: 0.5009 - accuracy: 0.7583 - val_loss: 0.5259 - val_accuracy: 0.7638\n",
      "Epoch 146/150\n",
      "52/52 [==============================] - 0s 2ms/step - loss: 0.4972 - accuracy: 0.7641 - val_loss: 0.5376 - val_accuracy: 0.7441\n",
      "Epoch 147/150\n",
      "52/52 [==============================] - 0s 2ms/step - loss: 0.5081 - accuracy: 0.7524 - val_loss: 0.5161 - val_accuracy: 0.7559\n",
      "Epoch 148/150\n",
      "52/52 [==============================] - 0s 2ms/step - loss: 0.4951 - accuracy: 0.7700 - val_loss: 0.5303 - val_accuracy: 0.7441\n",
      "Epoch 149/150\n",
      "52/52 [==============================] - 0s 2ms/step - loss: 0.5125 - accuracy: 0.7505 - val_loss: 0.5464 - val_accuracy: 0.7205\n",
      "Epoch 150/150\n",
      "52/52 [==============================] - 0s 2ms/step - loss: 0.5030 - accuracy: 0.7544 - val_loss: 0.5156 - val_accuracy: 0.7480\n"
     ]
    }
   ],
   "source": [
    "# Fit the model\n",
    "history=model.fit(X, Y, validation_split=0.33,epochs=150, batch_size=10)"
   ]
  },
  {
   "cell_type": "code",
   "execution_count": 10,
   "metadata": {
    "ExecuteTime": {
     "end_time": "2020-11-15T12:00:46.010083Z",
     "start_time": "2020-11-15T12:00:45.974177Z"
    }
   },
   "outputs": [
    {
     "name": "stdout",
     "output_type": "stream",
     "text": [
      "24/24 [==============================] - 0s 1ms/step - loss: 0.4961 - accuracy: 0.7588\n",
      "accuracy: 75.88%\n"
     ]
    }
   ],
   "source": [
    "# evaluate the model\n",
    "scores = model.evaluate(X, Y)\n",
    "print(\"%s: %.2f%%\" % (model.metrics_names[1], scores[1]*100)) "
   ]
  },
  {
   "cell_type": "code",
   "execution_count": 61,
   "metadata": {
    "ExecuteTime": {
     "end_time": "2020-11-15T12:01:29.279162Z",
     "start_time": "2020-11-15T12:01:29.272180Z"
    }
   },
   "outputs": [
    {
     "data": {
      "text/plain": [
       "dict_keys(['loss', 'accuracy', 'val_loss', 'val_accuracy'])"
      ]
     },
     "execution_count": 61,
     "metadata": {},
     "output_type": "execute_result"
    }
   ],
   "source": [
    "# Visualize training history\n",
    "\n",
    "# list all data in history\n",
    "model.history.history.keys()"
   ]
  },
  {
   "cell_type": "code",
   "execution_count": 62,
   "metadata": {
    "ExecuteTime": {
     "end_time": "2020-11-15T12:02:58.275382Z",
     "start_time": "2020-11-15T12:02:57.630106Z"
    }
   },
   "outputs": [
    {
     "data": {
      "image/png": "[encoded data removed]",
      "text/plain": [
       "<Figure size 432x288 with 1 Axes>"
      ]
     },
     "metadata": {
      "needs_background": "light"
     },
     "output_type": "display_data"
    },
    {
     "data": {
      "image/png": "[encoded data removed]",
      "text/plain": [
       "<Figure size 432x288 with 1 Axes>"
      ]
     },
     "metadata": {
      "needs_background": "light"
     },
     "output_type": "display_data"
    }
   ],
   "source": [
    "# summarize history for accuracy\n",
    "import matplotlib.pyplot as plt \n",
    "%matplotlib inline\n",
    "plt.plot(model.history.history['accuracy'])\n",
    "plt.plot(model.history.history['val_accuracy'])\n",
    "plt.title('model accuracy')\n",
    "plt.ylabel('accuracy')\n",
    "plt.xlabel('epoch')\n",
    "plt.legend(['train', 'test'], loc='upper left')\n",
    "plt.show()\n",
    "# summarize history for loss\n",
    "plt.plot(model.history.history['loss'])\n",
    "plt.plot(model.history.history['val_loss'])\n",
    "plt.title('model loss') \n",
    "plt.ylabel('loss')\n",
    "plt.xlabel('epoch')\n",
    "plt.legend(['train', 'test'], loc='upper left')\n",
    "plt.show()\n"
   ]
  },
  {
   "cell_type": "code",
   "execution_count": null,
   "metadata": {},
   "outputs": [],
   "source": []
  }
 ],
 "metadata": {
  "kernelspec": {
   "display_name": "Python 3",
   "language": "python",
   "name": "python3"
  },
  "language_info": {
   "codemirror_mode": {
    "name": "ipython",
    "version": 3
   },
   "file_extension": ".py",
   "mimetype": "text/x-python",
   "name": "python",
   "nbconvert_exporter": "python",
   "pygments_lexer": "ipython3",
   "version": "3.8.5"
  },
  "varInspector": {
   "cols": {
    "lenName": 16,
    "lenType": 16,
    "lenVar": 40
   },
   "kernels_config": {
    "python": {
     "delete_cmd_postfix": "",
     "delete_cmd_prefix": "del ",
     "library": "var_list.py",
     "varRefreshCmd": "print(var_dic_list())"
    },
    "r": {
     "delete_cmd_postfix": ") ",
     "delete_cmd_prefix": "rm(",
     "library": "var_list.r",
     "varRefreshCmd": "cat(var_dic_list()) "
    }
   },
   "types_to_exclude": [
    "module",
    "function",
    "builtin_function_or_method",
    "instance",
    "_Feature"
   ],
   "window_display": false
  }
 },
 "nbformat": 4,
 "nbformat_minor": 2
}
