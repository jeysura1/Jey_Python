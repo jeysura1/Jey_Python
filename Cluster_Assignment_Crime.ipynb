{
 "cells": [
  {
   "cell_type": "code",
   "execution_count": 144,
   "metadata": {
    "ExecuteTime": {
     "end_time": "2020-10-20T13:55:17.255859Z",
     "start_time": "2020-10-20T13:55:17.220957Z"
    },
    "scrolled": true
   },
   "outputs": [],
   "source": [
    "import numpy as np\n",
    "import pandas as pd\n",
    "import matplotlib.pylab as plt "
   ]
  },
  {
   "cell_type": "code",
   "execution_count": 216,
   "metadata": {},
   "outputs": [
    {
     "name": "stdout",
     "output_type": "stream",
     "text": [
      "    Unnamed: 0  Murder  Assault  UrbanPop  Rape\n",
      "0      Alabama    13.2      236        58  21.2\n",
      "1       Alaska    10.0      263        48  44.5\n",
      "2      Arizona     8.1      294        80  31.0\n",
      "3     Arkansas     8.8      190        50  19.5\n",
      "4   California     9.0      276        91  40.6\n",
      "5     Colorado     7.9      204        78  38.7\n",
      "6  Connecticut     3.3      110        77  11.1\n",
      "7     Delaware     5.9      238        72  15.8\n",
      "8      Florida    15.4      335        80  31.9\n",
      "9      Georgia    17.4      211        60  25.8\n"
     ]
    }
   ],
   "source": [
    "orig = pd.read_csv(\"D://DataScience/Data/crime_data.csv\")\n",
    "print(orig.head(10))"
   ]
  },
  {
   "cell_type": "code",
   "execution_count": 150,
   "metadata": {},
   "outputs": [
    {
     "name": "stdout",
     "output_type": "stream",
     "text": [
      "<class 'pandas.core.frame.DataFrame'>\n",
      "RangeIndex: 50 entries, 0 to 49\n",
      "Data columns (total 5 columns):\n",
      " #   Column      Non-Null Count  Dtype  \n",
      "---  ------      --------------  -----  \n",
      " 0   Unnamed: 0  50 non-null     object \n",
      " 1   Murder      50 non-null     float64\n",
      " 2   Assault     50 non-null     int64  \n",
      " 3   UrbanPop    50 non-null     int64  \n",
      " 4   Rape        50 non-null     float64\n",
      "dtypes: float64(2), int64(2), object(1)\n",
      "memory usage: 2.1+ KB\n"
     ]
    }
   ],
   "source": [
    "orig.info()"
   ]
  },
  {
   "cell_type": "markdown",
   "metadata": {},
   "source": [
    "### Standardise"
   ]
  },
  {
   "cell_type": "code",
   "execution_count": 149,
   "metadata": {
    "scrolled": true
   },
   "outputs": [
    {
     "data": {
      "text/html": [
       "<div>\n",
       "<style scoped>\n",
       "    .dataframe tbody tr th:only-of-type {\n",
       "        vertical-align: middle;\n",
       "    }\n",
       "\n",
       "    .dataframe tbody tr th {\n",
       "        vertical-align: top;\n",
       "    }\n",
       "\n",
       "    .dataframe thead th {\n",
       "        text-align: right;\n",
       "    }\n",
       "</style>\n",
       "<table border=\"1\" class=\"dataframe\">\n",
       "  <thead>\n",
       "    <tr style=\"text-align: right;\">\n",
       "      <th></th>\n",
       "      <th>0</th>\n",
       "      <th>1</th>\n",
       "      <th>2</th>\n",
       "      <th>3</th>\n",
       "    </tr>\n",
       "  </thead>\n",
       "  <tbody>\n",
       "    <tr>\n",
       "      <th>0</th>\n",
       "      <td>1.255179</td>\n",
       "      <td>0.790787</td>\n",
       "      <td>-0.526195</td>\n",
       "      <td>-0.003451</td>\n",
       "    </tr>\n",
       "    <tr>\n",
       "      <th>1</th>\n",
       "      <td>0.513019</td>\n",
       "      <td>1.118060</td>\n",
       "      <td>-1.224067</td>\n",
       "      <td>2.509424</td>\n",
       "    </tr>\n",
       "    <tr>\n",
       "      <th>2</th>\n",
       "      <td>0.072361</td>\n",
       "      <td>1.493817</td>\n",
       "      <td>1.009122</td>\n",
       "      <td>1.053466</td>\n",
       "    </tr>\n",
       "    <tr>\n",
       "      <th>3</th>\n",
       "      <td>0.234708</td>\n",
       "      <td>0.233212</td>\n",
       "      <td>-1.084492</td>\n",
       "      <td>-0.186794</td>\n",
       "    </tr>\n",
       "    <tr>\n",
       "      <th>4</th>\n",
       "      <td>0.281093</td>\n",
       "      <td>1.275635</td>\n",
       "      <td>1.776781</td>\n",
       "      <td>2.088814</td>\n",
       "    </tr>\n",
       "    <tr>\n",
       "      <th>5</th>\n",
       "      <td>0.025976</td>\n",
       "      <td>0.402909</td>\n",
       "      <td>0.869548</td>\n",
       "      <td>1.883901</td>\n",
       "    </tr>\n",
       "    <tr>\n",
       "      <th>6</th>\n",
       "      <td>-1.040880</td>\n",
       "      <td>-0.736484</td>\n",
       "      <td>0.799761</td>\n",
       "      <td>-1.092723</td>\n",
       "    </tr>\n",
       "    <tr>\n",
       "      <th>7</th>\n",
       "      <td>-0.437875</td>\n",
       "      <td>0.815030</td>\n",
       "      <td>0.450825</td>\n",
       "      <td>-0.585834</td>\n",
       "    </tr>\n",
       "    <tr>\n",
       "      <th>8</th>\n",
       "      <td>1.765415</td>\n",
       "      <td>1.990786</td>\n",
       "      <td>1.009122</td>\n",
       "      <td>1.150530</td>\n",
       "    </tr>\n",
       "    <tr>\n",
       "      <th>9</th>\n",
       "      <td>2.229265</td>\n",
       "      <td>0.487757</td>\n",
       "      <td>-0.386621</td>\n",
       "      <td>0.492653</td>\n",
       "    </tr>\n",
       "    <tr>\n",
       "      <th>10</th>\n",
       "      <td>-0.577030</td>\n",
       "      <td>-1.512241</td>\n",
       "      <td>1.218484</td>\n",
       "      <td>-0.111300</td>\n",
       "    </tr>\n",
       "    <tr>\n",
       "      <th>11</th>\n",
       "      <td>-1.203228</td>\n",
       "      <td>-0.615272</td>\n",
       "      <td>-0.805344</td>\n",
       "      <td>-0.758392</td>\n",
       "    </tr>\n",
       "    <tr>\n",
       "      <th>12</th>\n",
       "      <td>0.605789</td>\n",
       "      <td>0.948363</td>\n",
       "      <td>1.218484</td>\n",
       "      <td>0.298525</td>\n",
       "    </tr>\n",
       "    <tr>\n",
       "      <th>13</th>\n",
       "      <td>-0.136372</td>\n",
       "      <td>-0.700121</td>\n",
       "      <td>-0.037685</td>\n",
       "      <td>-0.025021</td>\n",
       "    </tr>\n",
       "    <tr>\n",
       "      <th>14</th>\n",
       "      <td>-1.295998</td>\n",
       "      <td>-1.391029</td>\n",
       "      <td>-0.595982</td>\n",
       "      <td>-1.071153</td>\n",
       "    </tr>\n",
       "    <tr>\n",
       "      <th>15</th>\n",
       "      <td>-0.414682</td>\n",
       "      <td>-0.675878</td>\n",
       "      <td>0.032102</td>\n",
       "      <td>-0.348567</td>\n",
       "    </tr>\n",
       "    <tr>\n",
       "      <th>16</th>\n",
       "      <td>0.443441</td>\n",
       "      <td>-0.748605</td>\n",
       "      <td>-0.944918</td>\n",
       "      <td>-0.531910</td>\n",
       "    </tr>\n",
       "    <tr>\n",
       "      <th>17</th>\n",
       "      <td>1.765415</td>\n",
       "      <td>0.948363</td>\n",
       "      <td>0.032102</td>\n",
       "      <td>0.104398</td>\n",
       "    </tr>\n",
       "    <tr>\n",
       "      <th>18</th>\n",
       "      <td>-1.319191</td>\n",
       "      <td>-1.063757</td>\n",
       "      <td>-1.014705</td>\n",
       "      <td>-1.448624</td>\n",
       "    </tr>\n",
       "    <tr>\n",
       "      <th>19</th>\n",
       "      <td>0.814521</td>\n",
       "      <td>1.566544</td>\n",
       "      <td>0.101889</td>\n",
       "      <td>0.708350</td>\n",
       "    </tr>\n",
       "    <tr>\n",
       "      <th>20</th>\n",
       "      <td>-0.785763</td>\n",
       "      <td>-0.263757</td>\n",
       "      <td>1.358058</td>\n",
       "      <td>-0.531910</td>\n",
       "    </tr>\n",
       "    <tr>\n",
       "      <th>21</th>\n",
       "      <td>1.000062</td>\n",
       "      <td>1.021090</td>\n",
       "      <td>0.590399</td>\n",
       "      <td>1.495646</td>\n",
       "    </tr>\n",
       "    <tr>\n",
       "      <th>22</th>\n",
       "      <td>-1.180036</td>\n",
       "      <td>-1.197090</td>\n",
       "      <td>0.032102</td>\n",
       "      <td>-0.682898</td>\n",
       "    </tr>\n",
       "    <tr>\n",
       "      <th>23</th>\n",
       "      <td>1.927762</td>\n",
       "      <td>1.069575</td>\n",
       "      <td>-1.503215</td>\n",
       "      <td>-0.445631</td>\n",
       "    </tr>\n",
       "    <tr>\n",
       "      <th>24</th>\n",
       "      <td>0.281093</td>\n",
       "      <td>0.087757</td>\n",
       "      <td>0.311251</td>\n",
       "      <td>0.751490</td>\n",
       "    </tr>\n",
       "    <tr>\n",
       "      <th>25</th>\n",
       "      <td>-0.414682</td>\n",
       "      <td>-0.748605</td>\n",
       "      <td>-0.875131</td>\n",
       "      <td>-0.521125</td>\n",
       "    </tr>\n",
       "    <tr>\n",
       "      <th>26</th>\n",
       "      <td>-0.808955</td>\n",
       "      <td>-0.833454</td>\n",
       "      <td>-0.247047</td>\n",
       "      <td>-0.510340</td>\n",
       "    </tr>\n",
       "    <tr>\n",
       "      <th>27</th>\n",
       "      <td>1.023254</td>\n",
       "      <td>0.984726</td>\n",
       "      <td>1.078909</td>\n",
       "      <td>2.671197</td>\n",
       "    </tr>\n",
       "    <tr>\n",
       "      <th>28</th>\n",
       "      <td>-1.319191</td>\n",
       "      <td>-1.378908</td>\n",
       "      <td>-0.665769</td>\n",
       "      <td>-1.265281</td>\n",
       "    </tr>\n",
       "    <tr>\n",
       "      <th>29</th>\n",
       "      <td>-0.089987</td>\n",
       "      <td>-0.142545</td>\n",
       "      <td>1.637207</td>\n",
       "      <td>-0.262288</td>\n",
       "    </tr>\n",
       "    <tr>\n",
       "      <th>30</th>\n",
       "      <td>0.837714</td>\n",
       "      <td>1.384726</td>\n",
       "      <td>0.311251</td>\n",
       "      <td>1.172100</td>\n",
       "    </tr>\n",
       "    <tr>\n",
       "      <th>31</th>\n",
       "      <td>0.768136</td>\n",
       "      <td>1.008969</td>\n",
       "      <td>1.427845</td>\n",
       "      <td>0.525008</td>\n",
       "    </tr>\n",
       "    <tr>\n",
       "      <th>32</th>\n",
       "      <td>1.208794</td>\n",
       "      <td>2.015028</td>\n",
       "      <td>-1.433428</td>\n",
       "      <td>-0.553480</td>\n",
       "    </tr>\n",
       "    <tr>\n",
       "      <th>33</th>\n",
       "      <td>-1.620693</td>\n",
       "      <td>-1.524362</td>\n",
       "      <td>-1.503215</td>\n",
       "      <td>-1.502548</td>\n",
       "    </tr>\n",
       "    <tr>\n",
       "      <th>34</th>\n",
       "      <td>-0.113180</td>\n",
       "      <td>-0.615272</td>\n",
       "      <td>0.660186</td>\n",
       "      <td>0.018119</td>\n",
       "    </tr>\n",
       "    <tr>\n",
       "      <th>35</th>\n",
       "      <td>-0.275527</td>\n",
       "      <td>-0.239515</td>\n",
       "      <td>0.171676</td>\n",
       "      <td>-0.132870</td>\n",
       "    </tr>\n",
       "    <tr>\n",
       "      <th>36</th>\n",
       "      <td>-0.669800</td>\n",
       "      <td>-0.142545</td>\n",
       "      <td>0.101889</td>\n",
       "      <td>0.870123</td>\n",
       "    </tr>\n",
       "    <tr>\n",
       "      <th>37</th>\n",
       "      <td>-0.345105</td>\n",
       "      <td>-0.784969</td>\n",
       "      <td>0.450825</td>\n",
       "      <td>-0.682898</td>\n",
       "    </tr>\n",
       "    <tr>\n",
       "      <th>38</th>\n",
       "      <td>-1.017688</td>\n",
       "      <td>0.039273</td>\n",
       "      <td>1.497632</td>\n",
       "      <td>-1.394700</td>\n",
       "    </tr>\n",
       "    <tr>\n",
       "      <th>39</th>\n",
       "      <td>1.533490</td>\n",
       "      <td>1.311999</td>\n",
       "      <td>-1.224067</td>\n",
       "      <td>0.136752</td>\n",
       "    </tr>\n",
       "    <tr>\n",
       "      <th>40</th>\n",
       "      <td>-0.924918</td>\n",
       "      <td>-1.027393</td>\n",
       "      <td>-1.433428</td>\n",
       "      <td>-0.909380</td>\n",
       "    </tr>\n",
       "    <tr>\n",
       "      <th>41</th>\n",
       "      <td>1.255179</td>\n",
       "      <td>0.208970</td>\n",
       "      <td>-0.456408</td>\n",
       "      <td>0.611287</td>\n",
       "    </tr>\n",
       "    <tr>\n",
       "      <th>42</th>\n",
       "      <td>1.139217</td>\n",
       "      <td>0.366545</td>\n",
       "      <td>1.009122</td>\n",
       "      <td>0.460298</td>\n",
       "    </tr>\n",
       "    <tr>\n",
       "      <th>43</th>\n",
       "      <td>-1.064073</td>\n",
       "      <td>-0.615272</td>\n",
       "      <td>1.009122</td>\n",
       "      <td>0.179892</td>\n",
       "    </tr>\n",
       "    <tr>\n",
       "      <th>44</th>\n",
       "      <td>-1.295998</td>\n",
       "      <td>-1.487999</td>\n",
       "      <td>-2.340661</td>\n",
       "      <td>-1.081938</td>\n",
       "    </tr>\n",
       "    <tr>\n",
       "      <th>45</th>\n",
       "      <td>0.165131</td>\n",
       "      <td>-0.178909</td>\n",
       "      <td>-0.177259</td>\n",
       "      <td>-0.057376</td>\n",
       "    </tr>\n",
       "    <tr>\n",
       "      <th>46</th>\n",
       "      <td>-0.878533</td>\n",
       "      <td>-0.312242</td>\n",
       "      <td>0.520612</td>\n",
       "      <td>0.535792</td>\n",
       "    </tr>\n",
       "    <tr>\n",
       "      <th>47</th>\n",
       "      <td>-0.484260</td>\n",
       "      <td>-1.087999</td>\n",
       "      <td>-1.852151</td>\n",
       "      <td>-1.286851</td>\n",
       "    </tr>\n",
       "    <tr>\n",
       "      <th>48</th>\n",
       "      <td>-1.203228</td>\n",
       "      <td>-1.427393</td>\n",
       "      <td>0.032102</td>\n",
       "      <td>-1.125078</td>\n",
       "    </tr>\n",
       "    <tr>\n",
       "      <th>49</th>\n",
       "      <td>-0.229142</td>\n",
       "      <td>-0.118303</td>\n",
       "      <td>-0.386621</td>\n",
       "      <td>-0.607404</td>\n",
       "    </tr>\n",
       "  </tbody>\n",
       "</table>\n",
       "</div>"
      ],
      "text/plain": [
       "           0         1         2         3\n",
       "0   1.255179  0.790787 -0.526195 -0.003451\n",
       "1   0.513019  1.118060 -1.224067  2.509424\n",
       "2   0.072361  1.493817  1.009122  1.053466\n",
       "3   0.234708  0.233212 -1.084492 -0.186794\n",
       "4   0.281093  1.275635  1.776781  2.088814\n",
       "5   0.025976  0.402909  0.869548  1.883901\n",
       "6  -1.040880 -0.736484  0.799761 -1.092723\n",
       "7  -0.437875  0.815030  0.450825 -0.585834\n",
       "8   1.765415  1.990786  1.009122  1.150530\n",
       "9   2.229265  0.487757 -0.386621  0.492653\n",
       "10 -0.577030 -1.512241  1.218484 -0.111300\n",
       "11 -1.203228 -0.615272 -0.805344 -0.758392\n",
       "12  0.605789  0.948363  1.218484  0.298525\n",
       "13 -0.136372 -0.700121 -0.037685 -0.025021\n",
       "14 -1.295998 -1.391029 -0.595982 -1.071153\n",
       "15 -0.414682 -0.675878  0.032102 -0.348567\n",
       "16  0.443441 -0.748605 -0.944918 -0.531910\n",
       "17  1.765415  0.948363  0.032102  0.104398\n",
       "18 -1.319191 -1.063757 -1.014705 -1.448624\n",
       "19  0.814521  1.566544  0.101889  0.708350\n",
       "20 -0.785763 -0.263757  1.358058 -0.531910\n",
       "21  1.000062  1.021090  0.590399  1.495646\n",
       "22 -1.180036 -1.197090  0.032102 -0.682898\n",
       "23  1.927762  1.069575 -1.503215 -0.445631\n",
       "24  0.281093  0.087757  0.311251  0.751490\n",
       "25 -0.414682 -0.748605 -0.875131 -0.521125\n",
       "26 -0.808955 -0.833454 -0.247047 -0.510340\n",
       "27  1.023254  0.984726  1.078909  2.671197\n",
       "28 -1.319191 -1.378908 -0.665769 -1.265281\n",
       "29 -0.089987 -0.142545  1.637207 -0.262288\n",
       "30  0.837714  1.384726  0.311251  1.172100\n",
       "31  0.768136  1.008969  1.427845  0.525008\n",
       "32  1.208794  2.015028 -1.433428 -0.553480\n",
       "33 -1.620693 -1.524362 -1.503215 -1.502548\n",
       "34 -0.113180 -0.615272  0.660186  0.018119\n",
       "35 -0.275527 -0.239515  0.171676 -0.132870\n",
       "36 -0.669800 -0.142545  0.101889  0.870123\n",
       "37 -0.345105 -0.784969  0.450825 -0.682898\n",
       "38 -1.017688  0.039273  1.497632 -1.394700\n",
       "39  1.533490  1.311999 -1.224067  0.136752\n",
       "40 -0.924918 -1.027393 -1.433428 -0.909380\n",
       "41  1.255179  0.208970 -0.456408  0.611287\n",
       "42  1.139217  0.366545  1.009122  0.460298\n",
       "43 -1.064073 -0.615272  1.009122  0.179892\n",
       "44 -1.295998 -1.487999 -2.340661 -1.081938\n",
       "45  0.165131 -0.178909 -0.177259 -0.057376\n",
       "46 -0.878533 -0.312242  0.520612  0.535792\n",
       "47 -0.484260 -1.087999 -1.852151 -1.286851\n",
       "48 -1.203228 -1.427393  0.032102 -1.125078\n",
       "49 -0.229142 -0.118303 -0.386621 -0.607404"
      ]
     },
     "execution_count": 149,
     "metadata": {},
     "output_type": "execute_result"
    }
   ],
   "source": [
    "from sklearn.preprocessing import StandardScaler\n",
    "scaler = StandardScaler()\n",
    "orig_scl = pd.DataFrame(scaler.fit_transform(orig.iloc[:,1:]))\n",
    "orig_scl"
   ]
  },
  {
   "cell_type": "code",
   "execution_count": 151,
   "metadata": {},
   "outputs": [],
   "source": [
    "import seaborn as sns"
   ]
  },
  {
   "cell_type": "code",
   "execution_count": 152,
   "metadata": {},
   "outputs": [
    {
     "data": {
      "text/plain": [
       "<AxesSubplot:>"
      ]
     },
     "execution_count": 152,
     "metadata": {},
     "output_type": "execute_result"
    },
    {
     "data": {
      "image/png": "[encoded data removed]",
      "text/plain": [
       "<Figure size 864x576 with 1 Axes>"
      ]
     },
     "metadata": {
      "needs_background": "light"
     },
     "output_type": "display_data"
    }
   ],
   "source": [
    "# Check for outliers\n",
    "plt.figure(figsize=(12,8))\n",
    "sns.boxplot(data=orig_scl)"
   ]
  },
  {
   "cell_type": "markdown",
   "metadata": {},
   "source": [
    "# Hierarchical"
   ]
  },
  {
   "cell_type": "code",
   "execution_count": 153,
   "metadata": {
    "ExecuteTime": {
     "end_time": "2020-10-20T13:55:55.208548Z",
     "start_time": "2020-10-20T13:55:54.831489Z"
    }
   },
   "outputs": [
    {
     "data": {
      "image/png": "[encoded data removed]",
      "text/plain": [
       "<Figure size 1080x360 with 1 Axes>"
      ]
     },
     "metadata": {
      "needs_background": "light"
     },
     "output_type": "display_data"
    }
   ],
   "source": [
    "## Using single\n",
    "from scipy.cluster.hierarchy import linkage \n",
    "import scipy.cluster.hierarchy as sch # for creating dendrogram \n",
    "#p = np.array(df_norm) # converting into numpy array format \n",
    "z = linkage(orig_scl, method=\"single\",metric=\"euclidean\")\n",
    "plt.figure(figsize=(15, 5))\n",
    "plt.title('Hierarchical Clustering Dendrogram')\n",
    "plt.xlabel('Index')\n",
    "plt.ylabel('Distance')\n",
    "sch.dendrogram(\n",
    "    z,\n",
    "    #leaf_rotation=0.,  # rotates the x axis labels\n",
    "    #leaf_font_size=8.,  # font size for the x axis labels\n",
    ")\n",
    "plt.show()"
   ]
  },
  {
   "cell_type": "markdown",
   "metadata": {},
   "source": [
    "Based on Dendrogram 2 or 3 clusters can be formed"
   ]
  },
  {
   "cell_type": "code",
   "execution_count": 217,
   "metadata": {
    "ExecuteTime": {
     "end_time": "2020-10-20T13:55:59.809940Z",
     "start_time": "2020-10-20T13:55:59.777029Z"
    },
    "scrolled": true
   },
   "outputs": [
    {
     "name": "stdout",
     "output_type": "stream",
     "text": [
      "Clusters  [0 1]\n"
     ]
    },
    {
     "data": {
      "text/plain": [
       "0    49\n",
       "1     1\n",
       "dtype: int64"
      ]
     },
     "execution_count": 217,
     "metadata": {},
     "output_type": "execute_result"
    }
   ],
   "source": [
    "# Form Cluster and concatinate with original data set\n",
    "from sklearn.cluster import AgglomerativeClustering \n",
    "h_complete = AgglomerativeClustering(n_clusters=2, linkage='single',affinity = \"euclidean\").fit(orig_scl) \n",
    "\n",
    "single_labels=pd.Series(h_complete.labels_)\n",
    "print(\"Clusters\",'',single_labels.unique())\n",
    "orig['clust_s']=single_labels # creating a  new column and assigning it to new column \n",
    "single_labels.value_counts()"
   ]
  },
  {
   "cell_type": "code",
   "execution_count": 154,
   "metadata": {},
   "outputs": [
    {
     "data": {
      "image/png": "[encoded data removed]",
      "text/plain": [
       "<Figure size 1080x360 with 1 Axes>"
      ]
     },
     "metadata": {
      "needs_background": "light"
     },
     "output_type": "display_data"
    }
   ],
   "source": [
    "# Using Complete\n",
    "from scipy.cluster.hierarchy import linkage \n",
    "import scipy.cluster.hierarchy as sch # for creating dendrogram \n",
    "#p = np.array(df_norm) # converting into numpy array format \n",
    "z = linkage(orig_scl, method=\"complete\",metric=\"euclidean\")\n",
    "plt.figure(figsize=(15, 5))\n",
    "plt.title('Hierarchical Clustering Dendrogram')\n",
    "plt.xlabel('Index')\n",
    "plt.ylabel('Distance')\n",
    "sch.dendrogram(\n",
    "    z,\n",
    "    #leaf_rotation=0.,  # rotates the x axis labels\n",
    "    #leaf_font_size=8.,  # font size for the x axis labels\n",
    ")\n",
    "plt.show()"
   ]
  },
  {
   "cell_type": "markdown",
   "metadata": {},
   "source": [
    "Based on Dendrogram 5 or 6 clusters can be choosen"
   ]
  },
  {
   "cell_type": "code",
   "execution_count": 218,
   "metadata": {},
   "outputs": [
    {
     "name": "stdout",
     "output_type": "stream",
     "text": [
      "Clusters  [1 3 0 2 4]\n"
     ]
    },
    {
     "data": {
      "text/plain": [
       "2    21\n",
       "0    11\n",
       "4    10\n",
       "1     7\n",
       "3     1\n",
       "dtype: int64"
      ]
     },
     "execution_count": 218,
     "metadata": {},
     "output_type": "execute_result"
    }
   ],
   "source": [
    "# Form Cluster and concatinate with original data set\n",
    "from sklearn.cluster import AgglomerativeClustering \n",
    "h_complete = AgglomerativeClustering(n_clusters=5, linkage='complete',affinity = \"euclidean\").fit(orig_scl) \n",
    "\n",
    "comp_labels=pd.Series(h_complete.labels_)\n",
    "print(\"Clusters\",'',comp_labels.unique())\n",
    "orig['clust_c']=comp_labels # creating a  new column and assigning it to new column \n",
    "comp_labels.value_counts()"
   ]
  },
  {
   "cell_type": "code",
   "execution_count": 155,
   "metadata": {},
   "outputs": [
    {
     "data": {
      "image/png": "[encoded data removed]",
      "text/plain": [
       "<Figure size 1080x360 with 1 Axes>"
      ]
     },
     "metadata": {
      "needs_background": "light"
     },
     "output_type": "display_data"
    }
   ],
   "source": [
    "# Using Average\n",
    "from scipy.cluster.hierarchy import linkage \n",
    "import scipy.cluster.hierarchy as sch # for creating dendrogram \n",
    "#p = np.array(df_norm) # converting into numpy array format \n",
    "z = linkage(orig_scl, method=\"average\",metric=\"euclidean\")\n",
    "plt.figure(figsize=(15, 5))\n",
    "plt.title('Hierarchical Clustering Dendrogram')\n",
    "plt.xlabel('Index')\n",
    "plt.ylabel('Distance')\n",
    "sch.dendrogram(\n",
    "    z,\n",
    "    #leaf_rotation=0.,  # rotates the x axis labels\n",
    "    #leaf_font_size=8.,  # font size for the x axis labels\n",
    ")\n",
    "plt.show()"
   ]
  },
  {
   "cell_type": "markdown",
   "metadata": {},
   "source": [
    "Based on Dendrogram 3 clusters can be formed"
   ]
  },
  {
   "cell_type": "code",
   "execution_count": 219,
   "metadata": {},
   "outputs": [
    {
     "name": "stdout",
     "output_type": "stream",
     "text": [
      "Clusters  [0 1 2]\n"
     ]
    },
    {
     "data": {
      "text/plain": [
       "2    30\n",
       "0    19\n",
       "1     1\n",
       "dtype: int64"
      ]
     },
     "execution_count": 219,
     "metadata": {},
     "output_type": "execute_result"
    }
   ],
   "source": [
    "# Form Cluster and concatinate with original data set\n",
    "from sklearn.cluster import AgglomerativeClustering \n",
    "h_complete = AgglomerativeClustering(n_clusters=3, linkage='average',affinity = \"euclidean\").fit(orig_scl) \n",
    "\n",
    "avg_labels=pd.Series(h_complete.labels_)\n",
    "print(\"Clusters\",'',avg_labels.unique())\n",
    "orig['clust_a']=avg_labels # creating a  new column and assigning it to new column \n",
    "avg_labels.value_counts()"
   ]
  },
  {
   "cell_type": "code",
   "execution_count": 156,
   "metadata": {},
   "outputs": [
    {
     "data": {
      "image/png": "[encoded data removed]",
      "text/plain": [
       "<Figure size 1080x360 with 1 Axes>"
      ]
     },
     "metadata": {
      "needs_background": "light"
     },
     "output_type": "display_data"
    }
   ],
   "source": [
    "# Using ward\n",
    "from scipy.cluster.hierarchy import linkage \n",
    "import scipy.cluster.hierarchy as sch # for creating dendrogram \n",
    "#p = np.array(df_norm) # converting into numpy array format \n",
    "z = linkage(orig_scl, method=\"ward\",metric=\"euclidean\")\n",
    "plt.figure(figsize=(15, 5))\n",
    "plt.title('Hierarchical Clustering Dendrogram')\n",
    "plt.xlabel('Index')\n",
    "plt.ylabel('Distance')\n",
    "sch.dendrogram(\n",
    "    z,\n",
    "    #leaf_rotation=0.,  # rotates the x axis labels\n",
    "    #leaf_font_size=8.,  # font size for the x axis labels\n",
    ")\n",
    "plt.show()"
   ]
  },
  {
   "cell_type": "markdown",
   "metadata": {},
   "source": [
    "Based on Dendrogram 5 or 6 clusters can be formed"
   ]
  },
  {
   "cell_type": "code",
   "execution_count": 220,
   "metadata": {},
   "outputs": [
    {
     "name": "stdout",
     "output_type": "stream",
     "text": [
      "Clusters  [2 1 4 0 3]\n"
     ]
    },
    {
     "data": {
      "text/plain": [
       "0    16\n",
       "3    12\n",
       "4    11\n",
       "2     7\n",
       "1     4\n",
       "dtype: int64"
      ]
     },
     "execution_count": 220,
     "metadata": {},
     "output_type": "execute_result"
    }
   ],
   "source": [
    "# Form Cluster and concatinate with original data set\n",
    "from sklearn.cluster import AgglomerativeClustering \n",
    "h_complete = AgglomerativeClustering(n_clusters=5, linkage='ward',affinity = \"euclidean\").fit(orig_scl) \n",
    "\n",
    "wrd_labels=pd.Series(h_complete.labels_)\n",
    "print(\"Clusters\",'',wrd_labels.unique())\n",
    "orig['clust_w']=wrd_labels # creating a  new column and assigning it to new column \n",
    "wrd_labels.value_counts()"
   ]
  },
  {
   "cell_type": "code",
   "execution_count": 221,
   "metadata": {
    "scrolled": true
   },
   "outputs": [
    {
     "name": "stdout",
     "output_type": "stream",
     "text": [
      "        Unnamed: 0  Murder  Assault  UrbanPop  Rape  clust_s  clust_c  \\\n",
      "0          Alabama    13.2      236        58  21.2        0        1   \n",
      "1           Alaska    10.0      263        48  44.5        1        3   \n",
      "2          Arizona     8.1      294        80  31.0        0        0   \n",
      "3         Arkansas     8.8      190        50  19.5        0        2   \n",
      "4       California     9.0      276        91  40.6        0        0   \n",
      "5         Colorado     7.9      204        78  38.7        0        0   \n",
      "6      Connecticut     3.3      110        77  11.1        0        2   \n",
      "7         Delaware     5.9      238        72  15.8        0        2   \n",
      "8          Florida    15.4      335        80  31.9        0        0   \n",
      "9          Georgia    17.4      211        60  25.8        0        1   \n",
      "10          Hawaii     5.3       46        83  20.2        0        2   \n",
      "11           Idaho     2.6      120        54  14.2        0        4   \n",
      "12        Illinois    10.4      249        83  24.0        0        0   \n",
      "13         Indiana     7.2      113        65  21.0        0        2   \n",
      "14            Iowa     2.2       56        57  11.3        0        4   \n",
      "15          Kansas     6.0      115        66  18.0        0        2   \n",
      "16        Kentucky     9.7      109        52  16.3        0        2   \n",
      "17       Louisiana    15.4      249        66  22.2        0        1   \n",
      "18           Maine     2.1       83        51   7.8        0        4   \n",
      "19        Maryland    11.3      300        67  27.8        0        0   \n",
      "20   Massachusetts     4.4      149        85  16.3        0        2   \n",
      "21        Michigan    12.1      255        74  35.1        0        0   \n",
      "22       Minnesota     2.7       72        66  14.9        0        2   \n",
      "23     Mississippi    16.1      259        44  17.1        0        1   \n",
      "24        Missouri     9.0      178        70  28.2        0        2   \n",
      "25         Montana     6.0      109        53  16.4        0        4   \n",
      "26        Nebraska     4.3      102        62  16.5        0        4   \n",
      "27          Nevada    12.2      252        81  46.0        0        0   \n",
      "28   New Hampshire     2.1       57        56   9.5        0        4   \n",
      "29      New Jersey     7.4      159        89  18.8        0        2   \n",
      "30      New Mexico    11.4      285        70  32.1        0        0   \n",
      "31        New York    11.1      254        86  26.1        0        0   \n",
      "32  North Carolina    13.0      337        45  16.1        0        1   \n",
      "33    North Dakota     0.8       45        44   7.3        0        4   \n",
      "34            Ohio     7.3      120        75  21.4        0        2   \n",
      "35        Oklahoma     6.6      151        68  20.0        0        2   \n",
      "36          Oregon     4.9      159        67  29.3        0        2   \n",
      "37    Pennsylvania     6.3      106        72  14.9        0        2   \n",
      "38    Rhode Island     3.4      174        87   8.3        0        2   \n",
      "39  South Carolina    14.4      279        48  22.5        0        1   \n",
      "40    South Dakota     3.8       86        45  12.8        0        4   \n",
      "41       Tennessee    13.2      188        59  26.9        0        1   \n",
      "42           Texas    12.7      201        80  25.5        0        0   \n",
      "43            Utah     3.2      120        80  22.9        0        2   \n",
      "44         Vermont     2.2       48        32  11.2        0        4   \n",
      "45        Virginia     8.5      156        63  20.7        0        2   \n",
      "46      Washington     4.0      145        73  26.2        0        2   \n",
      "47   West Virginia     5.7       81        39   9.3        0        4   \n",
      "48       Wisconsin     2.6       53        66  10.8        0        2   \n",
      "49         Wyoming     6.8      161        60  15.6        0        2   \n",
      "\n",
      "    clust_a  clust_w  \n",
      "0         0        2  \n",
      "1         1        1  \n",
      "2         0        4  \n",
      "3         2        0  \n",
      "4         0        1  \n",
      "5         0        4  \n",
      "6         2        0  \n",
      "7         2        0  \n",
      "8         0        1  \n",
      "9         0        2  \n",
      "10        2        0  \n",
      "11        2        3  \n",
      "12        0        4  \n",
      "13        2        0  \n",
      "14        2        3  \n",
      "15        2        0  \n",
      "16        2        0  \n",
      "17        0        2  \n",
      "18        2        3  \n",
      "19        0        4  \n",
      "20        2        0  \n",
      "21        0        4  \n",
      "22        2        3  \n",
      "23        0        2  \n",
      "24        0        4  \n",
      "25        2        3  \n",
      "26        2        3  \n",
      "27        0        1  \n",
      "28        2        3  \n",
      "29        2        0  \n",
      "30        0        4  \n",
      "31        0        4  \n",
      "32        0        2  \n",
      "33        2        3  \n",
      "34        2        0  \n",
      "35        2        0  \n",
      "36        2        4  \n",
      "37        2        0  \n",
      "38        2        0  \n",
      "39        0        2  \n",
      "40        2        3  \n",
      "41        0        2  \n",
      "42        0        4  \n",
      "43        2        0  \n",
      "44        2        3  \n",
      "45        2        0  \n",
      "46        2        4  \n",
      "47        2        3  \n",
      "48        2        3  \n",
      "49        2        0  \n"
     ]
    }
   ],
   "source": [
    "print(orig)"
   ]
  },
  {
   "cell_type": "code",
   "execution_count": 36,
   "metadata": {},
   "outputs": [],
   "source": [
    "from sklearn.metrics import silhouette_samples, silhouette_score"
   ]
  },
  {
   "cell_type": "markdown",
   "metadata": {},
   "source": [
    "# K means"
   ]
  },
  {
   "cell_type": "code",
   "execution_count": 281,
   "metadata": {},
   "outputs": [
    {
     "name": "stdout",
     "output_type": "stream",
     "text": [
      "    Unnamed: 0  Murder  Assault  UrbanPop  Rape\n",
      "0      Alabama    13.2      236        58  21.2\n",
      "1       Alaska    10.0      263        48  44.5\n",
      "2      Arizona     8.1      294        80  31.0\n",
      "3     Arkansas     8.8      190        50  19.5\n",
      "4   California     9.0      276        91  40.6\n",
      "5     Colorado     7.9      204        78  38.7\n",
      "6  Connecticut     3.3      110        77  11.1\n",
      "7     Delaware     5.9      238        72  15.8\n",
      "8      Florida    15.4      335        80  31.9\n",
      "9      Georgia    17.4      211        60  25.8\n"
     ]
    }
   ],
   "source": [
    "crime = pd.read_csv(\"D://DataScience/Data/crime_data.csv\")\n",
    "print(crime.head(10))"
   ]
  },
  {
   "cell_type": "markdown",
   "metadata": {},
   "source": [
    "### Normalization"
   ]
  },
  {
   "cell_type": "code",
   "execution_count": 282,
   "metadata": {},
   "outputs": [
    {
     "name": "stdout",
     "output_type": "stream",
     "text": [
      "          0         1         2         3\n",
      "0  0.746988  0.654110  0.440678  0.359173\n",
      "1  0.554217  0.746575  0.271186  0.961240\n",
      "2  0.439759  0.852740  0.813559  0.612403\n",
      "3  0.481928  0.496575  0.305085  0.315245\n",
      "4  0.493976  0.791096  1.000000  0.860465\n",
      "5  0.427711  0.544521  0.779661  0.811370\n",
      "6  0.150602  0.222603  0.762712  0.098191\n",
      "7  0.307229  0.660959  0.677966  0.219638\n",
      "8  0.879518  0.993151  0.813559  0.635659\n",
      "9  1.000000  0.568493  0.474576  0.478036\n"
     ]
    }
   ],
   "source": [
    "from sklearn.preprocessing import MinMaxScaler\n",
    "trans = MinMaxScaler()\n",
    "crime_norm= pd.DataFrame(trans.fit_transform(crime.iloc[:,1:]))\n",
    "print(crime_norm.head(10))"
   ]
  },
  {
   "cell_type": "code",
   "execution_count": 283,
   "metadata": {},
   "outputs": [
    {
     "data": {
      "image/png": "[encoded data removed]",
      "text/plain": [
       "<Figure size 720x576 with 1 Axes>"
      ]
     },
     "metadata": {
      "needs_background": "light"
     },
     "output_type": "display_data"
    }
   ],
   "source": [
    "from sklearn.cluster import KMeans\n",
    "fig = plt.figure(figsize=(10, 8))\n",
    "WCSS = []\n",
    "for i in range(1, 11):\n",
    "    clf = KMeans(n_clusters=i,random_state=0)\n",
    "    clf.fit(crime_norm)\n",
    "    WCSS.append(clf.inertia_) # inertia is another name for WCSS\n",
    "plt.plot(range(1, 11), WCSS)\n",
    "plt.title('The Elbow Method')\n",
    "plt.ylabel('WCSS')\n",
    "plt.xlabel('Number of Clusters')\n",
    "plt.show()"
   ]
  },
  {
   "cell_type": "markdown",
   "metadata": {},
   "source": [
    "### Determine the elbow point"
   ]
  },
  {
   "cell_type": "code",
   "execution_count": 284,
   "metadata": {},
   "outputs": [
    {
     "data": {
      "text/plain": [
       "4"
      ]
     },
     "execution_count": 284,
     "metadata": {},
     "output_type": "execute_result"
    }
   ],
   "source": [
    "from kneed import DataGenerator, KneeLocator\n",
    "kl = KneeLocator(\n",
    "    range(1, 11), WCSS, curve=\"convex\", direction=\"decreasing\"\n",
    ")\n",
    "kl.elbow"
   ]
  },
  {
   "cell_type": "markdown",
   "metadata": {},
   "source": [
    "Based on Elbow curve, k=4 is fine"
   ]
  },
  {
   "cell_type": "code",
   "execution_count": 285,
   "metadata": {},
   "outputs": [
    {
     "data": {
      "text/plain": [
       "KMeans(n_clusters=4, random_state=42)"
      ]
     },
     "execution_count": 285,
     "metadata": {},
     "output_type": "execute_result"
    }
   ],
   "source": [
    "from sklearn.cluster import KMeans\n",
    "clusters_k=KMeans(4,random_state=42)\n",
    "clusters_k.fit(crime_norm)"
   ]
  },
  {
   "cell_type": "code",
   "execution_count": 286,
   "metadata": {},
   "outputs": [
    {
     "name": "stdout",
     "output_type": "stream",
     "text": [
      "Clusters  [1 3 0 2]\n"
     ]
    },
    {
     "data": {
      "text/plain": [
       "0    17\n",
       "2    13\n",
       "3    12\n",
       "1     8\n",
       "dtype: int64"
      ]
     },
     "execution_count": 286,
     "metadata": {},
     "output_type": "execute_result"
    }
   ],
   "source": [
    "clusters=pd.Series(clusters_k.labels_)\n",
    "print(\"Clusters\",'',clusters.unique())\n",
    "crime['clust_k']=clusters # creating a  new column and assigning it to new column \n",
    "clusters.value_counts()"
   ]
  },
  {
   "cell_type": "code",
   "execution_count": 287,
   "metadata": {
    "scrolled": true
   },
   "outputs": [
    {
     "name": "stdout",
     "output_type": "stream",
     "text": [
      "        Unnamed: 0  Murder  Assault  UrbanPop  Rape  clust_k\n",
      "0          Alabama    13.2      236        58  21.2        1\n",
      "1           Alaska    10.0      263        48  44.5        3\n",
      "2          Arizona     8.1      294        80  31.0        3\n",
      "3         Arkansas     8.8      190        50  19.5        1\n",
      "4       California     9.0      276        91  40.6        3\n",
      "5         Colorado     7.9      204        78  38.7        3\n",
      "6      Connecticut     3.3      110        77  11.1        0\n",
      "7         Delaware     5.9      238        72  15.8        0\n",
      "8          Florida    15.4      335        80  31.9        3\n",
      "9          Georgia    17.4      211        60  25.8        1\n",
      "10          Hawaii     5.3       46        83  20.2        0\n",
      "11           Idaho     2.6      120        54  14.2        2\n",
      "12        Illinois    10.4      249        83  24.0        3\n",
      "13         Indiana     7.2      113        65  21.0        0\n",
      "14            Iowa     2.2       56        57  11.3        2\n",
      "15          Kansas     6.0      115        66  18.0        0\n",
      "16        Kentucky     9.7      109        52  16.3        2\n",
      "17       Louisiana    15.4      249        66  22.2        1\n",
      "18           Maine     2.1       83        51   7.8        2\n",
      "19        Maryland    11.3      300        67  27.8        3\n",
      "20   Massachusetts     4.4      149        85  16.3        0\n",
      "21        Michigan    12.1      255        74  35.1        3\n",
      "22       Minnesota     2.7       72        66  14.9        2\n",
      "23     Mississippi    16.1      259        44  17.1        1\n",
      "24        Missouri     9.0      178        70  28.2        0\n",
      "25         Montana     6.0      109        53  16.4        2\n",
      "26        Nebraska     4.3      102        62  16.5        2\n",
      "27          Nevada    12.2      252        81  46.0        3\n",
      "28   New Hampshire     2.1       57        56   9.5        2\n",
      "29      New Jersey     7.4      159        89  18.8        0\n",
      "30      New Mexico    11.4      285        70  32.1        3\n",
      "31        New York    11.1      254        86  26.1        3\n",
      "32  North Carolina    13.0      337        45  16.1        1\n",
      "33    North Dakota     0.8       45        44   7.3        2\n",
      "34            Ohio     7.3      120        75  21.4        0\n",
      "35        Oklahoma     6.6      151        68  20.0        0\n",
      "36          Oregon     4.9      159        67  29.3        0\n",
      "37    Pennsylvania     6.3      106        72  14.9        0\n",
      "38    Rhode Island     3.4      174        87   8.3        0\n",
      "39  South Carolina    14.4      279        48  22.5        1\n",
      "40    South Dakota     3.8       86        45  12.8        2\n",
      "41       Tennessee    13.2      188        59  26.9        1\n",
      "42           Texas    12.7      201        80  25.5        3\n",
      "43            Utah     3.2      120        80  22.9        0\n",
      "44         Vermont     2.2       48        32  11.2        2\n",
      "45        Virginia     8.5      156        63  20.7        0\n",
      "46      Washington     4.0      145        73  26.2        0\n",
      "47   West Virginia     5.7       81        39   9.3        2\n",
      "48       Wisconsin     2.6       53        66  10.8        2\n",
      "49         Wyoming     6.8      161        60  15.6        0\n"
     ]
    }
   ],
   "source": [
    "print(crime)"
   ]
  }
 ],
 "metadata": {
  "kernelspec": {
   "display_name": "Python 3",
   "language": "python",
   "name": "python3"
  },
  "language_info": {
   "codemirror_mode": {
    "name": "ipython",
    "version": 3
   },
   "file_extension": ".py",
   "mimetype": "text/x-python",
   "name": "python",
   "nbconvert_exporter": "python",
   "pygments_lexer": "ipython3",
   "version": "3.8.5"
  },
  "varInspector": {
   "cols": {
    "lenName": 16,
    "lenType": 16,
    "lenVar": 40
   },
   "kernels_config": {
    "python": {
     "delete_cmd_postfix": "",
     "delete_cmd_prefix": "del ",
     "library": "var_list.py",
     "varRefreshCmd": "print(var_dic_list())"
    },
    "r": {
     "delete_cmd_postfix": ") ",
     "delete_cmd_prefix": "rm(",
     "library": "var_list.r",
     "varRefreshCmd": "cat(var_dic_list()) "
    }
   },
   "types_to_exclude": [
    "module",
    "function",
    "builtin_function_or_method",
    "instance",
    "_Feature"
   ],
   "window_display": false
  }
 },
 "nbformat": 4,
 "nbformat_minor": 2
}
