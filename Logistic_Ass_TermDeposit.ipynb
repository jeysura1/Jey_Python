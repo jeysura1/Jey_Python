{
 "cells": [
  {
   "cell_type": "code",
   "execution_count": 6,
   "metadata": {
    "ExecuteTime": {
     "end_time": "2020-11-20T10:29:47.614827Z",
     "start_time": "2020-11-20T10:29:47.609829Z"
    }
   },
   "outputs": [],
   "source": [
    "import pandas as pd\n",
    "import numpy as ny\n",
    "import seaborn as sns\n",
    "import matplotlib.pyplot as plt"
   ]
  },
  {
   "cell_type": "code",
   "execution_count": 161,
   "metadata": {
    "ExecuteTime": {
     "end_time": "2020-11-20T10:29:49.679784Z",
     "start_time": "2020-11-20T10:29:49.530921Z"
    },
    "scrolled": true
   },
   "outputs": [
    {
     "data": {
      "text/html": [
       "<div>\n",
       "<style scoped>\n",
       "    .dataframe tbody tr th:only-of-type {\n",
       "        vertical-align: middle;\n",
       "    }\n",
       "\n",
       "    .dataframe tbody tr th {\n",
       "        vertical-align: top;\n",
       "    }\n",
       "\n",
       "    .dataframe thead th {\n",
       "        text-align: right;\n",
       "    }\n",
       "</style>\n",
       "<table border=\"1\" class=\"dataframe\">\n",
       "  <thead>\n",
       "    <tr style=\"text-align: right;\">\n",
       "      <th></th>\n",
       "      <th>age</th>\n",
       "      <th>job</th>\n",
       "      <th>marital</th>\n",
       "      <th>education</th>\n",
       "      <th>default</th>\n",
       "      <th>balance</th>\n",
       "      <th>housing</th>\n",
       "      <th>loan</th>\n",
       "      <th>contact</th>\n",
       "      <th>day</th>\n",
       "      <th>month</th>\n",
       "      <th>duration</th>\n",
       "      <th>campaign</th>\n",
       "      <th>pdays</th>\n",
       "      <th>previous</th>\n",
       "      <th>poutcome</th>\n",
       "      <th>y</th>\n",
       "    </tr>\n",
       "  </thead>\n",
       "  <tbody>\n",
       "    <tr>\n",
       "      <th>45206</th>\n",
       "      <td>51</td>\n",
       "      <td>technician</td>\n",
       "      <td>married</td>\n",
       "      <td>tertiary</td>\n",
       "      <td>no</td>\n",
       "      <td>825</td>\n",
       "      <td>no</td>\n",
       "      <td>no</td>\n",
       "      <td>cellular</td>\n",
       "      <td>17</td>\n",
       "      <td>nov</td>\n",
       "      <td>977</td>\n",
       "      <td>3</td>\n",
       "      <td>-1</td>\n",
       "      <td>0</td>\n",
       "      <td>unknown</td>\n",
       "      <td>yes</td>\n",
       "    </tr>\n",
       "    <tr>\n",
       "      <th>45207</th>\n",
       "      <td>71</td>\n",
       "      <td>retired</td>\n",
       "      <td>divorced</td>\n",
       "      <td>primary</td>\n",
       "      <td>no</td>\n",
       "      <td>1729</td>\n",
       "      <td>no</td>\n",
       "      <td>no</td>\n",
       "      <td>cellular</td>\n",
       "      <td>17</td>\n",
       "      <td>nov</td>\n",
       "      <td>456</td>\n",
       "      <td>2</td>\n",
       "      <td>-1</td>\n",
       "      <td>0</td>\n",
       "      <td>unknown</td>\n",
       "      <td>yes</td>\n",
       "    </tr>\n",
       "    <tr>\n",
       "      <th>45208</th>\n",
       "      <td>72</td>\n",
       "      <td>retired</td>\n",
       "      <td>married</td>\n",
       "      <td>secondary</td>\n",
       "      <td>no</td>\n",
       "      <td>5715</td>\n",
       "      <td>no</td>\n",
       "      <td>no</td>\n",
       "      <td>cellular</td>\n",
       "      <td>17</td>\n",
       "      <td>nov</td>\n",
       "      <td>1127</td>\n",
       "      <td>5</td>\n",
       "      <td>184</td>\n",
       "      <td>3</td>\n",
       "      <td>success</td>\n",
       "      <td>yes</td>\n",
       "    </tr>\n",
       "    <tr>\n",
       "      <th>45209</th>\n",
       "      <td>57</td>\n",
       "      <td>blue-collar</td>\n",
       "      <td>married</td>\n",
       "      <td>secondary</td>\n",
       "      <td>no</td>\n",
       "      <td>668</td>\n",
       "      <td>no</td>\n",
       "      <td>no</td>\n",
       "      <td>telephone</td>\n",
       "      <td>17</td>\n",
       "      <td>nov</td>\n",
       "      <td>508</td>\n",
       "      <td>4</td>\n",
       "      <td>-1</td>\n",
       "      <td>0</td>\n",
       "      <td>unknown</td>\n",
       "      <td>no</td>\n",
       "    </tr>\n",
       "    <tr>\n",
       "      <th>45210</th>\n",
       "      <td>37</td>\n",
       "      <td>entrepreneur</td>\n",
       "      <td>married</td>\n",
       "      <td>secondary</td>\n",
       "      <td>no</td>\n",
       "      <td>2971</td>\n",
       "      <td>no</td>\n",
       "      <td>no</td>\n",
       "      <td>cellular</td>\n",
       "      <td>17</td>\n",
       "      <td>nov</td>\n",
       "      <td>361</td>\n",
       "      <td>2</td>\n",
       "      <td>188</td>\n",
       "      <td>11</td>\n",
       "      <td>other</td>\n",
       "      <td>no</td>\n",
       "    </tr>\n",
       "  </tbody>\n",
       "</table>\n",
       "</div>"
      ],
      "text/plain": [
       "       age           job   marital  education default  balance housing loan  \\\n",
       "45206   51    technician   married   tertiary      no      825      no   no   \n",
       "45207   71       retired  divorced    primary      no     1729      no   no   \n",
       "45208   72       retired   married  secondary      no     5715      no   no   \n",
       "45209   57   blue-collar   married  secondary      no      668      no   no   \n",
       "45210   37  entrepreneur   married  secondary      no     2971      no   no   \n",
       "\n",
       "         contact  day month  duration  campaign  pdays  previous poutcome    y  \n",
       "45206   cellular   17   nov       977         3     -1         0  unknown  yes  \n",
       "45207   cellular   17   nov       456         2     -1         0  unknown  yes  \n",
       "45208   cellular   17   nov      1127         5    184         3  success  yes  \n",
       "45209  telephone   17   nov       508         4     -1         0  unknown   no  \n",
       "45210   cellular   17   nov       361         2    188        11    other   no  "
      ]
     },
     "execution_count": 161,
     "metadata": {},
     "output_type": "execute_result"
    }
   ],
   "source": [
    "#bank=filename='D://Data Science/Python/worked/bank-full.csv'\n",
    "bank=pd.read_csv('C://Users/jeysu_000/Data Science/Data/bank.csv',sep =\";\")\n",
    "bank.tail()\n"
   ]
  },
  {
   "cell_type": "code",
   "execution_count": 162,
   "metadata": {
    "collapsed": true
   },
   "outputs": [
    {
     "name": "stdout",
     "output_type": "stream",
     "text": [
      "<class 'pandas.core.frame.DataFrame'>\n",
      "RangeIndex: 45211 entries, 0 to 45210\n",
      "Data columns (total 17 columns):\n",
      " #   Column     Non-Null Count  Dtype \n",
      "---  ------     --------------  ----- \n",
      " 0   age        45211 non-null  int64 \n",
      " 1   job        45211 non-null  object\n",
      " 2   marital    45211 non-null  object\n",
      " 3   education  45211 non-null  object\n",
      " 4   default    45211 non-null  object\n",
      " 5   balance    45211 non-null  int64 \n",
      " 6   housing    45211 non-null  object\n",
      " 7   loan       45211 non-null  object\n",
      " 8   contact    45211 non-null  object\n",
      " 9   day        45211 non-null  int64 \n",
      " 10  month      45211 non-null  object\n",
      " 11  duration   45211 non-null  int64 \n",
      " 12  campaign   45211 non-null  int64 \n",
      " 13  pdays      45211 non-null  int64 \n",
      " 14  previous   45211 non-null  int64 \n",
      " 15  poutcome   45211 non-null  object\n",
      " 16  y          45211 non-null  object\n",
      "dtypes: int64(7), object(10)\n",
      "memory usage: 5.9+ MB\n"
     ]
    }
   ],
   "source": [
    "bank.info()"
   ]
  },
  {
   "cell_type": "code",
   "execution_count": 174,
   "metadata": {},
   "outputs": [
    {
     "name": "stdout",
     "output_type": "stream",
     "text": [
      "[[58 'married' 'tertiary' 2143 'unknown']\n",
      " [44 'single' 'secondary' 29 'unknown']\n",
      " [33 'married' 'secondary' 2 'unknown']\n",
      " ...\n",
      " [72 'married' 'secondary' 5715 'success']\n",
      " [57 'married' 'secondary' 668 'unknown']\n",
      " [37 'married' 'secondary' 2971 'other']]\n"
     ]
    }
   ],
   "source": [
    "x1=bank.iloc[:,[0,2,3,5,15]].values\n",
    "#x= pd.DataFrame(x)\n",
    "y1=bank.iloc[:,-1].values\n",
    "#z=bank.iloc[:,[15]].values\n",
    "print (x)"
   ]
  },
  {
   "cell_type": "code",
   "execution_count": 183,
   "metadata": {},
   "outputs": [
    {
     "name": "stdout",
     "output_type": "stream",
     "text": [
      "        0  1  2     3  4\n",
      "0      58  1  2  3036  3\n",
      "1      44  2  1   945  3\n",
      "2      33  1  1   918  3\n",
      "3      47  1  3  2420  3\n",
      "4      33  2  3   917  3\n",
      "...    .. .. ..   ... ..\n",
      "45206  51  1  2  1741  3\n",
      "45207  71  0  0  2639  3\n",
      "45208  72  1  1  5455  2\n",
      "45209  57  1  1  1584  3\n",
      "45210  37  1  1  3779  1\n",
      "\n",
      "[45211 rows x 5 columns]\n"
     ]
    }
   ],
   "source": [
    "from sklearn.preprocessing import LabelEncoder\n",
    "from sklearn.preprocessing import OneHotEncoder\n",
    "x= pd.DataFrame(x)\n",
    "x_labelencoder = LabelEncoder()\n",
    "x.iloc[:,1] = x_labelencoder.fit_transform(x.iloc[:,1])\n",
    "x.iloc[:,2] = x_labelencoder.fit_transform(x.iloc[:,2])\n",
    "#x.iloc[:,3] = x_labelencoder.fit_transform(x.iloc[:,3])\n",
    "x.iloc[:,4] = x_labelencoder.fit_transform(x.iloc[:,4])\n",
    "print(x)"
   ]
  },
  {
   "cell_type": "code",
   "execution_count": 184,
   "metadata": {},
   "outputs": [
    {
     "name": "stdout",
     "output_type": "stream",
     "text": [
      "[0 0 0 ... 1 0 0]\n"
     ]
    }
   ],
   "source": [
    "y_labelencoder = LabelEncoder()\n",
    "y=y_labelencoder.fit_transform(y[:])\n",
    "print(y)"
   ]
  },
  {
   "cell_type": "code",
   "execution_count": 68,
   "metadata": {},
   "outputs": [
    {
     "data": {
      "text/plain": [
       "array([0, 0, 0, ..., 1, 0, 0])"
      ]
     },
     "execution_count": 68,
     "metadata": {},
     "output_type": "execute_result"
    }
   ],
   "source": [
    "y"
   ]
  },
  {
   "cell_type": "code",
   "execution_count": 185,
   "metadata": {},
   "outputs": [
    {
     "data": {
      "text/plain": [
       "(        0  1  2     3  4\n",
       " 13932  57  0  1  1574  3\n",
       " 9894   37  1  3  2609  3\n",
       " 39946  35  0  1  3657  0\n",
       " 9217   35  1  1  1130  3\n",
       " 4124   38  2  2  1239  3\n",
       " ...    .. .. ..   ... ..\n",
       " 30403  35  2  2  1911  3\n",
       " 21243  35  1  2  1666  3\n",
       " 42613  35  1  2  1239  3\n",
       " 43567  70  1  1  1532  0\n",
       " 2732   46  2  1   973  3\n",
       " \n",
       " [36168 rows x 5 columns],\n",
       "         0  1  2     3  4\n",
       " 14001  37  1  2  2319  3\n",
       " 32046  36  2  1   663  3\n",
       " 13318  47  1  0   516  3\n",
       " 42991  57  1  0  1417  0\n",
       " 14237  33  1  1   516  3\n",
       " ...    .. .. ..   ... ..\n",
       " 18448  53  1  0  1168  3\n",
       " 6654   28  2  2  2899  3\n",
       " 17106  28  1  1   923  3\n",
       " 9025   59  1  1   916  3\n",
       " 13171  50  1  0   602  3\n",
       " \n",
       " [9043 rows x 5 columns],\n",
       " array([1, 0, 0, ..., 1, 0, 0]),\n",
       " array([0, 1, 0, ..., 0, 1, 0]))"
      ]
     },
     "execution_count": 185,
     "metadata": {},
     "output_type": "execute_result"
    }
   ],
   "source": [
    "from sklearn.model_selection import train_test_split\n",
    "x_train,x_test,y_train,y_test=train_test_split(x,y, test_size=0.20, random_state=0)\n",
    "x_train,x_test,y_train,y_test"
   ]
  },
  {
   "cell_type": "code",
   "execution_count": 186,
   "metadata": {},
   "outputs": [
    {
     "data": {
      "text/plain": [
       "(array([[ 1.51506117, -1.91917636, -0.30097185, -0.26789309,  0.44433241],\n",
       "        [-0.36959746, -0.27704789,  2.38019807,  0.43667051,  0.44433241],\n",
       "        [-0.55806332, -1.91917636, -0.30097185,  1.15008369, -2.58671521],\n",
       "        ...,\n",
       "        [-0.55806332, -0.27704789,  1.03961311, -0.49594024,  0.44433241],\n",
       "        [ 2.74008927, -0.27704789, -0.30097185, -0.29648407, -2.58671521],\n",
       "        [ 0.47849892,  1.36508059, -0.30097185, -0.67701649,  0.44433241]]),\n",
       " array([[-0.37504691, -0.27059763,  1.02361062,  0.25851682,  0.44717154],\n",
       "        [-0.46898783,  1.38167407, -0.29893701, -0.89046345,  0.44717154],\n",
       "        [ 0.56436234, -0.27059763, -1.62148463, -0.99245626,  0.44717154],\n",
       "        ...,\n",
       "        [-1.22051523, -0.27059763, -0.29893701, -0.710068  ,  0.44717154],\n",
       "        [ 1.69165343, -0.27059763, -0.29893701, -0.7149248 ,  0.44717154],\n",
       "        [ 0.84618511, -0.27059763, -1.62148463, -0.932787  ,  0.44717154]]),\n",
       " array([1, 0, 0, ..., 1, 0, 0]),\n",
       " array([0, 1, 0, ..., 0, 1, 0]))"
      ]
     },
     "execution_count": 186,
     "metadata": {},
     "output_type": "execute_result"
    }
   ],
   "source": [
    "#Scalling\n",
    "from sklearn.preprocessing import StandardScaler\n",
    "scaler= StandardScaler()\n",
    "x_train=scaler.fit_transform(x_train)\n",
    "x_test= scaler.fit_transform(x_test)\n",
    "x_train,x_test,y_train,y_test"
   ]
  },
  {
   "cell_type": "code",
   "execution_count": 187,
   "metadata": {},
   "outputs": [
    {
     "data": {
      "text/plain": [
       "LogisticRegression(random_state=0)"
      ]
     },
     "execution_count": 187,
     "metadata": {},
     "output_type": "execute_result"
    }
   ],
   "source": [
    "# Model\n",
    "from sklearn.linear_model import LogisticRegression\n",
    "rslt=LogisticRegression(random_state=0)\n",
    "rslt.fit (x_train,y_train)"
   ]
  },
  {
   "cell_type": "code",
   "execution_count": 188,
   "metadata": {},
   "outputs": [
    {
     "name": "stdout",
     "output_type": "stream",
     "text": [
      "[0 0 0 ... 0 0 0]\n"
     ]
    }
   ],
   "source": [
    "# Prediction\n",
    "y_pred=rslt.predict(x_test)\n",
    "print(y_pred)"
   ]
  },
  {
   "cell_type": "code",
   "execution_count": 189,
   "metadata": {},
   "outputs": [
    {
     "name": "stdout",
     "output_type": "stream",
     "text": [
      "Pred     0\n",
      "Act       \n",
      "0     7980\n",
      "1     1063\n"
     ]
    }
   ],
   "source": [
    "# Confusion Matrix\n",
    "results= pd.crosstab(y_test,y_pred, rownames=['Act'], colnames=['Pred'])\n",
    "print(results)"
   ]
  },
  {
   "cell_type": "code",
   "execution_count": 190,
   "metadata": {},
   "outputs": [
    {
     "name": "stdout",
     "output_type": "stream",
     "text": [
      "88.2450514209886 %\n"
     ]
    }
   ],
   "source": [
    "#Model validation\n",
    "from sklearn.model_selection import cross_val_score\n",
    "results = rslt.score(x_test, y_test)\n",
    "print(results*100,'%')Hi Parthik"
   ]
  }
 ],
 "metadata": {
  "kernelspec": {
   "display_name": "Python 3",
   "language": "python",
   "name": "python3"
  },
  "language_info": {
   "codemirror_mode": {
    "name": "ipython",
    "version": 3
   },
   "file_extension": ".py",
   "mimetype": "text/x-python",
   "name": "python",
   "nbconvert_exporter": "python",
   "pygments_lexer": "ipython3",
   "version": "3.8.5"
  }
 },
 "nbformat": 4,
 "nbformat_minor": 4
}
